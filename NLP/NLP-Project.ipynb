{
 "cells": [
  {
   "cell_type": "code",
   "execution_count": 1,
   "metadata": {
    "id": "7BIkFpuCaD-I"
   },
   "outputs": [],
   "source": [
    "# Importing Necessary libraries\n",
    "import nltk\n",
    "import numpy as np\n",
    "import pandas as pd\n",
    "from nltk.stem import WordNetLemmatizer\n",
    "from nltk.stem import PorterStemmer, SnowballStemmer\n",
    "from sklearn.feature_extraction.text import CountVectorizer, TfidfVectorizer\n",
    "from collections import defaultdict\n",
    "\n",
    "\n",
    "import warnings\n",
    "warnings.filterwarnings('ignore')\n"
   ]
  },
  {
   "cell_type": "markdown",
   "metadata": {},
   "source": [
    "# Columns\n",
    "\n",
    "**article_text: the text of the article retrieved via newspaper3k package.\n",
    "\n",
    "event_location: the geographical location - collected from GDELT.\n",
    "\n",
    "average_tone: measures the impact of the event - collected from GDELT.\n",
    "\n",
    "article_date: article's publish date - collected from GDELT.\n",
    "\n",
    "article_ID: GDELT ID , unique among the dataset's articles.\n",
    "\n",
    "article_URL: the direct URL for the published article in its source website.\n",
    "\n",
    "MBFC_factuality_label: factuality label for the source from MBFC.\n",
    "\n",
    "article_URL\n",
    "\n",
    "MBFC_factuality_label\n",
    "\n",
    "URL_to_MBFC_page\n",
    "\n",
    "source_name\n",
    "\n",
    "MBFC_notes_about_source\n",
    "\n",
    "MBFC_bias_label\n",
    "\n",
    "source_URL\n",
    "\n",
    "propaganda_label**\n"
   ]
  },
  {
   "cell_type": "code",
   "execution_count": null,
   "metadata": {},
   "outputs": [],
   "source": []
  },
  {
   "cell_type": "code",
   "execution_count": 2,
   "metadata": {
    "id": "ekNSwZrebD6P"
   },
   "outputs": [],
   "source": [
    "column_names = ['text', 'location', 'tone', 'date', 'ID','URL','MBFC_factuality_label', 'URL.1',\n",
    "                'MBFC_factuality_label.1','URL_to_MBFC_page', 'source_name', 'MBFC_notes_about_source',\n",
    "               'MBFC_bias_label','source_URL','propaganda_label']"
   ]
  },
  {
   "cell_type": "code",
   "execution_count": 3,
   "metadata": {
    "colab": {
     "base_uri": "https://localhost:8080/",
     "height": 643
    },
    "id": "9JCcBrNkahza",
    "outputId": "faeb2341-c586-4902-eda9-7ea5d0344ba3"
   },
   "outputs": [
    {
     "data": {
      "text/html": [
       "<div>\n",
       "<style scoped>\n",
       "    .dataframe tbody tr th:only-of-type {\n",
       "        vertical-align: middle;\n",
       "    }\n",
       "\n",
       "    .dataframe tbody tr th {\n",
       "        vertical-align: top;\n",
       "    }\n",
       "\n",
       "    .dataframe thead th {\n",
       "        text-align: right;\n",
       "    }\n",
       "</style>\n",
       "<table border=\"1\" class=\"dataframe\">\n",
       "  <thead>\n",
       "    <tr style=\"text-align: right;\">\n",
       "      <th></th>\n",
       "      <th>text</th>\n",
       "      <th>location</th>\n",
       "      <th>tone</th>\n",
       "      <th>date</th>\n",
       "      <th>ID</th>\n",
       "      <th>URL</th>\n",
       "      <th>MBFC_factuality_label</th>\n",
       "      <th>URL.1</th>\n",
       "      <th>MBFC_factuality_label.1</th>\n",
       "      <th>URL_to_MBFC_page</th>\n",
       "      <th>source_name</th>\n",
       "      <th>MBFC_notes_about_source</th>\n",
       "      <th>MBFC_bias_label</th>\n",
       "      <th>source_URL</th>\n",
       "      <th>propaganda_label</th>\n",
       "    </tr>\n",
       "  </thead>\n",
       "  <tbody>\n",
       "    <tr>\n",
       "      <th>0</th>\n",
       "      <td>Et tu, Rhody?  A recent editorial in the Provi...</td>\n",
       "      <td>Rhode Island, United States</td>\n",
       "      <td>-3.181818</td>\n",
       "      <td>2018-02-02</td>\n",
       "      <td>727600136</td>\n",
       "      <td>http://www.courant.com/opinion/editorials/hc-e...</td>\n",
       "      <td>unknown</td>\n",
       "      <td>Editorial: Why, Rhode Island, Why?</td>\n",
       "      <td>HIGH</td>\n",
       "      <td>http://mediabiasfactcheck.com/the-hartford-cou...</td>\n",
       "      <td>The Hartford Courant</td>\n",
       "      <td>The Hartford Courant is the largest daily news...</td>\n",
       "      <td>leftcenter06</td>\n",
       "      <td>courant.com</td>\n",
       "      <td>-1</td>\n",
       "    </tr>\n",
       "    <tr>\n",
       "      <th>1</th>\n",
       "      <td>A recent post in The Farmington Mirror — our t...</td>\n",
       "      <td>Rhode Island, United States</td>\n",
       "      <td>-0.424328</td>\n",
       "      <td>2018-02-17</td>\n",
       "      <td>731714618</td>\n",
       "      <td>http://www.courant.com/features/hc-fea-avoidin...</td>\n",
       "      <td>Teresa M. Pelham</td>\n",
       "      <td>A Tip For Navigating The Dreaded School Drop-O...</td>\n",
       "      <td>HIGH</td>\n",
       "      <td>http://mediabiasfactcheck.com/the-hartford-cou...</td>\n",
       "      <td>The Hartford Courant</td>\n",
       "      <td>The Hartford Courant is the largest daily news...</td>\n",
       "      <td>leftcenter06</td>\n",
       "      <td>courant.com</td>\n",
       "      <td>-1</td>\n",
       "    </tr>\n",
       "    <tr>\n",
       "      <th>2</th>\n",
       "      <td>President Donald Trump, as he often does while...</td>\n",
       "      <td>Florida, United States</td>\n",
       "      <td>-2.469136</td>\n",
       "      <td>2018-02-17</td>\n",
       "      <td>731714635</td>\n",
       "      <td>http://www.courant.com/nation-world/ct-trump-f...</td>\n",
       "      <td>Josh Dawsey</td>\n",
       "      <td>Trump focuses on praising first responders in ...</td>\n",
       "      <td>HIGH</td>\n",
       "      <td>http://mediabiasfactcheck.com/the-hartford-cou...</td>\n",
       "      <td>The Hartford Courant</td>\n",
       "      <td>The Hartford Courant is the largest daily news...</td>\n",
       "      <td>leftcenter06</td>\n",
       "      <td>courant.com</td>\n",
       "      <td>-1</td>\n",
       "    </tr>\n",
       "    <tr>\n",
       "      <th>3</th>\n",
       "      <td>February is Black History Month, and nothing l...</td>\n",
       "      <td>Bristol, Bristol, City of, United Kingdom</td>\n",
       "      <td>-0.894632</td>\n",
       "      <td>2018-02-06</td>\n",
       "      <td>728627182</td>\n",
       "      <td>http://www.courant.com/entertainment/museums-g...</td>\n",
       "      <td>Susan Dunne</td>\n",
       "      <td>African Slave-Trading Center, Frederick Dougla...</td>\n",
       "      <td>HIGH</td>\n",
       "      <td>http://mediabiasfactcheck.com/the-hartford-cou...</td>\n",
       "      <td>The Hartford Courant</td>\n",
       "      <td>The Hartford Courant is the largest daily news...</td>\n",
       "      <td>leftcenter06</td>\n",
       "      <td>courant.com</td>\n",
       "      <td>-1</td>\n",
       "    </tr>\n",
       "    <tr>\n",
       "      <th>4</th>\n",
       "      <td>The snow was so heavy, whipped up by gusting w...</td>\n",
       "      <td>Connecticut, United States</td>\n",
       "      <td>-4.800000</td>\n",
       "      <td>2018-02-06</td>\n",
       "      <td>728627443</td>\n",
       "      <td>http://www.courant.com/weather/hc-br-blizzard-...</td>\n",
       "      <td>Nicholas Rondinone</td>\n",
       "      <td>40 Years Ago, Blizzard Of '78 Walloped Connect...</td>\n",
       "      <td>HIGH</td>\n",
       "      <td>http://mediabiasfactcheck.com/the-hartford-cou...</td>\n",
       "      <td>The Hartford Courant</td>\n",
       "      <td>The Hartford Courant is the largest daily news...</td>\n",
       "      <td>leftcenter06</td>\n",
       "      <td>courant.com</td>\n",
       "      <td>-1</td>\n",
       "    </tr>\n",
       "  </tbody>\n",
       "</table>\n",
       "</div>"
      ],
      "text/plain": [
       "                                                text  \\\n",
       "0  Et tu, Rhody?  A recent editorial in the Provi...   \n",
       "1  A recent post in The Farmington Mirror — our t...   \n",
       "2  President Donald Trump, as he often does while...   \n",
       "3  February is Black History Month, and nothing l...   \n",
       "4  The snow was so heavy, whipped up by gusting w...   \n",
       "\n",
       "                                    location      tone        date         ID  \\\n",
       "0                Rhode Island, United States -3.181818  2018-02-02  727600136   \n",
       "1                Rhode Island, United States -0.424328  2018-02-17  731714618   \n",
       "2                     Florida, United States -2.469136  2018-02-17  731714635   \n",
       "3  Bristol, Bristol, City of, United Kingdom -0.894632  2018-02-06  728627182   \n",
       "4                 Connecticut, United States -4.800000  2018-02-06  728627443   \n",
       "\n",
       "                                                 URL MBFC_factuality_label  \\\n",
       "0  http://www.courant.com/opinion/editorials/hc-e...               unknown   \n",
       "1  http://www.courant.com/features/hc-fea-avoidin...      Teresa M. Pelham   \n",
       "2  http://www.courant.com/nation-world/ct-trump-f...           Josh Dawsey   \n",
       "3  http://www.courant.com/entertainment/museums-g...           Susan Dunne   \n",
       "4  http://www.courant.com/weather/hc-br-blizzard-...    Nicholas Rondinone   \n",
       "\n",
       "                                               URL.1 MBFC_factuality_label.1  \\\n",
       "0                 Editorial: Why, Rhode Island, Why?                    HIGH   \n",
       "1  A Tip For Navigating The Dreaded School Drop-O...                    HIGH   \n",
       "2  Trump focuses on praising first responders in ...                    HIGH   \n",
       "3  African Slave-Trading Center, Frederick Dougla...                    HIGH   \n",
       "4  40 Years Ago, Blizzard Of '78 Walloped Connect...                    HIGH   \n",
       "\n",
       "                                    URL_to_MBFC_page           source_name  \\\n",
       "0  http://mediabiasfactcheck.com/the-hartford-cou...  The Hartford Courant   \n",
       "1  http://mediabiasfactcheck.com/the-hartford-cou...  The Hartford Courant   \n",
       "2  http://mediabiasfactcheck.com/the-hartford-cou...  The Hartford Courant   \n",
       "3  http://mediabiasfactcheck.com/the-hartford-cou...  The Hartford Courant   \n",
       "4  http://mediabiasfactcheck.com/the-hartford-cou...  The Hartford Courant   \n",
       "\n",
       "                             MBFC_notes_about_source MBFC_bias_label  \\\n",
       "0  The Hartford Courant is the largest daily news...    leftcenter06   \n",
       "1  The Hartford Courant is the largest daily news...    leftcenter06   \n",
       "2  The Hartford Courant is the largest daily news...    leftcenter06   \n",
       "3  The Hartford Courant is the largest daily news...    leftcenter06   \n",
       "4  The Hartford Courant is the largest daily news...    leftcenter06   \n",
       "\n",
       "    source_URL  propaganda_label  \n",
       "0  courant.com                -1  \n",
       "1  courant.com                -1  \n",
       "2  courant.com                -1  \n",
       "3  courant.com                -1  \n",
       "4  courant.com                -1  "
      ]
     },
     "execution_count": 3,
     "metadata": {},
     "output_type": "execute_result"
    }
   ],
   "source": [
    "# Loading training data\n",
    "train_data = pd.read_csv('proppy_1.0.train.tsv', sep='\\t', names =column_names)\n",
    "train_data.head()"
   ]
  },
  {
   "cell_type": "code",
   "execution_count": 4,
   "metadata": {
    "colab": {
     "base_uri": "https://localhost:8080/"
    },
    "id": "R6wiFImRa1-b",
    "outputId": "8fb2874a-564d-4f76-c03d-7ade32aa986e"
   },
   "outputs": [
    {
     "data": {
      "text/plain": [
       "array([-1,  1], dtype=int64)"
      ]
     },
     "execution_count": 4,
     "metadata": {},
     "output_type": "execute_result"
    }
   ],
   "source": [
    "# target variable\n",
    "train_data.propaganda_label.unique()"
   ]
  },
  {
   "cell_type": "code",
   "execution_count": 5,
   "metadata": {
    "colab": {
     "base_uri": "https://localhost:8080/",
     "height": 573
    },
    "id": "LdvYb-avcHWJ",
    "outputId": "0e9053fa-a303-4153-f05c-559bf9b4bb34"
   },
   "outputs": [
    {
     "data": {
      "text/html": [
       "<div>\n",
       "<style scoped>\n",
       "    .dataframe tbody tr th:only-of-type {\n",
       "        vertical-align: middle;\n",
       "    }\n",
       "\n",
       "    .dataframe tbody tr th {\n",
       "        vertical-align: top;\n",
       "    }\n",
       "\n",
       "    .dataframe thead th {\n",
       "        text-align: right;\n",
       "    }\n",
       "</style>\n",
       "<table border=\"1\" class=\"dataframe\">\n",
       "  <thead>\n",
       "    <tr style=\"text-align: right;\">\n",
       "      <th></th>\n",
       "      <th>text</th>\n",
       "      <th>location</th>\n",
       "      <th>tone</th>\n",
       "      <th>date</th>\n",
       "      <th>ID</th>\n",
       "      <th>URL</th>\n",
       "      <th>MBFC_factuality_label</th>\n",
       "      <th>URL.1</th>\n",
       "      <th>MBFC_factuality_label.1</th>\n",
       "      <th>URL_to_MBFC_page</th>\n",
       "      <th>source_name</th>\n",
       "      <th>MBFC_notes_about_source</th>\n",
       "      <th>MBFC_bias_label</th>\n",
       "      <th>source_URL</th>\n",
       "      <th>propaganda_label</th>\n",
       "    </tr>\n",
       "  </thead>\n",
       "  <tbody>\n",
       "    <tr>\n",
       "      <th>0</th>\n",
       "      <td>Convened to examine the causes of civil unrest...</td>\n",
       "      <td>Chicago, Illinois, United States</td>\n",
       "      <td>-4.593640</td>\n",
       "      <td>2018-02-27</td>\n",
       "      <td>734202079</td>\n",
       "      <td>http://www.courant.com/nation-world/ct-no-prog...</td>\n",
       "      <td>Tracy Jan</td>\n",
       "      <td>Report: No progress for African-Americans on h...</td>\n",
       "      <td>HIGH</td>\n",
       "      <td>http://mediabiasfactcheck.com/the-hartford-cou...</td>\n",
       "      <td>The Hartford Courant</td>\n",
       "      <td>The Hartford Courant is the largest daily news...</td>\n",
       "      <td>leftcenter06</td>\n",
       "      <td>courant.com</td>\n",
       "      <td>-1</td>\n",
       "    </tr>\n",
       "    <tr>\n",
       "      <th>1</th>\n",
       "      <td>Discriminating against someone on the basis of...</td>\n",
       "      <td>Chicago, Illinois, United States</td>\n",
       "      <td>-1.566952</td>\n",
       "      <td>2018-02-27</td>\n",
       "      <td>734203497</td>\n",
       "      <td>http://www.courant.com/nation-world/ct-anti-di...</td>\n",
       "      <td>Matt Zapotosky</td>\n",
       "      <td>Employers can't discriminate based on sexual o...</td>\n",
       "      <td>HIGH</td>\n",
       "      <td>http://mediabiasfactcheck.com/the-hartford-cou...</td>\n",
       "      <td>The Hartford Courant</td>\n",
       "      <td>The Hartford Courant is the largest daily news...</td>\n",
       "      <td>leftcenter06</td>\n",
       "      <td>courant.com</td>\n",
       "      <td>-1</td>\n",
       "    </tr>\n",
       "    <tr>\n",
       "      <th>2</th>\n",
       "      <td>Bill Cosby's 44-year-old daughter, Ensa Cosby,...</td>\n",
       "      <td>Philadelphia, Pennsylvania, United States</td>\n",
       "      <td>-6.150660</td>\n",
       "      <td>2018-02-27</td>\n",
       "      <td>734204589</td>\n",
       "      <td>http://www.courant.com/entertainment/ct-cosby-...</td>\n",
       "      <td>Bob Salsberg</td>\n",
       "      <td>Bill Cosby's daughter Ensa, 44, dies in Massac...</td>\n",
       "      <td>HIGH</td>\n",
       "      <td>http://mediabiasfactcheck.com/the-hartford-cou...</td>\n",
       "      <td>The Hartford Courant</td>\n",
       "      <td>The Hartford Courant is the largest daily news...</td>\n",
       "      <td>leftcenter06</td>\n",
       "      <td>courant.com</td>\n",
       "      <td>-1</td>\n",
       "    </tr>\n",
       "    <tr>\n",
       "      <th>3</th>\n",
       "      <td>The fast-moving, powerful theatrical locomotiv...</td>\n",
       "      <td>New York, United States</td>\n",
       "      <td>1.524390</td>\n",
       "      <td>2018-02-27</td>\n",
       "      <td>734213466</td>\n",
       "      <td>http://www.courant.com/entertainment/arts-thea...</td>\n",
       "      <td>Christopher Arnott</td>\n",
       "      <td>'Murder On The Orient Express' A Funny, Fast-P...</td>\n",
       "      <td>HIGH</td>\n",
       "      <td>http://mediabiasfactcheck.com/the-hartford-cou...</td>\n",
       "      <td>The Hartford Courant</td>\n",
       "      <td>The Hartford Courant is the largest daily news...</td>\n",
       "      <td>leftcenter06</td>\n",
       "      <td>courant.com</td>\n",
       "      <td>-1</td>\n",
       "    </tr>\n",
       "    <tr>\n",
       "      <th>4</th>\n",
       "      <td>It's Friday. It's National Pizza Day. Grab lif...</td>\n",
       "      <td>West Hartford, Connecticut, United States</td>\n",
       "      <td>1.197605</td>\n",
       "      <td>2018-02-09</td>\n",
       "      <td>729554384</td>\n",
       "      <td>http://www.courant.com/features/food/hc-nation...</td>\n",
       "      <td>Nicholas Rondinone</td>\n",
       "      <td>You Can Celebrate National Pizza Day Right Here</td>\n",
       "      <td>HIGH</td>\n",
       "      <td>http://mediabiasfactcheck.com/the-hartford-cou...</td>\n",
       "      <td>The Hartford Courant</td>\n",
       "      <td>The Hartford Courant is the largest daily news...</td>\n",
       "      <td>leftcenter06</td>\n",
       "      <td>courant.com</td>\n",
       "      <td>-1</td>\n",
       "    </tr>\n",
       "  </tbody>\n",
       "</table>\n",
       "</div>"
      ],
      "text/plain": [
       "                                                text  \\\n",
       "0  Convened to examine the causes of civil unrest...   \n",
       "1  Discriminating against someone on the basis of...   \n",
       "2  Bill Cosby's 44-year-old daughter, Ensa Cosby,...   \n",
       "3  The fast-moving, powerful theatrical locomotiv...   \n",
       "4  It's Friday. It's National Pizza Day. Grab lif...   \n",
       "\n",
       "                                    location      tone        date         ID  \\\n",
       "0           Chicago, Illinois, United States -4.593640  2018-02-27  734202079   \n",
       "1           Chicago, Illinois, United States -1.566952  2018-02-27  734203497   \n",
       "2  Philadelphia, Pennsylvania, United States -6.150660  2018-02-27  734204589   \n",
       "3                    New York, United States  1.524390  2018-02-27  734213466   \n",
       "4  West Hartford, Connecticut, United States  1.197605  2018-02-09  729554384   \n",
       "\n",
       "                                                 URL MBFC_factuality_label  \\\n",
       "0  http://www.courant.com/nation-world/ct-no-prog...             Tracy Jan   \n",
       "1  http://www.courant.com/nation-world/ct-anti-di...        Matt Zapotosky   \n",
       "2  http://www.courant.com/entertainment/ct-cosby-...          Bob Salsberg   \n",
       "3  http://www.courant.com/entertainment/arts-thea...    Christopher Arnott   \n",
       "4  http://www.courant.com/features/food/hc-nation...    Nicholas Rondinone   \n",
       "\n",
       "                                               URL.1 MBFC_factuality_label.1  \\\n",
       "0  Report: No progress for African-Americans on h...                    HIGH   \n",
       "1  Employers can't discriminate based on sexual o...                    HIGH   \n",
       "2  Bill Cosby's daughter Ensa, 44, dies in Massac...                    HIGH   \n",
       "3  'Murder On The Orient Express' A Funny, Fast-P...                    HIGH   \n",
       "4    You Can Celebrate National Pizza Day Right Here                    HIGH   \n",
       "\n",
       "                                    URL_to_MBFC_page           source_name  \\\n",
       "0  http://mediabiasfactcheck.com/the-hartford-cou...  The Hartford Courant   \n",
       "1  http://mediabiasfactcheck.com/the-hartford-cou...  The Hartford Courant   \n",
       "2  http://mediabiasfactcheck.com/the-hartford-cou...  The Hartford Courant   \n",
       "3  http://mediabiasfactcheck.com/the-hartford-cou...  The Hartford Courant   \n",
       "4  http://mediabiasfactcheck.com/the-hartford-cou...  The Hartford Courant   \n",
       "\n",
       "                             MBFC_notes_about_source MBFC_bias_label  \\\n",
       "0  The Hartford Courant is the largest daily news...    leftcenter06   \n",
       "1  The Hartford Courant is the largest daily news...    leftcenter06   \n",
       "2  The Hartford Courant is the largest daily news...    leftcenter06   \n",
       "3  The Hartford Courant is the largest daily news...    leftcenter06   \n",
       "4  The Hartford Courant is the largest daily news...    leftcenter06   \n",
       "\n",
       "    source_URL  propaganda_label  \n",
       "0  courant.com                -1  \n",
       "1  courant.com                -1  \n",
       "2  courant.com                -1  \n",
       "3  courant.com                -1  \n",
       "4  courant.com                -1  "
      ]
     },
     "execution_count": 5,
     "metadata": {},
     "output_type": "execute_result"
    }
   ],
   "source": [
    "# Loading validation data\n",
    "valid_data = pd.read_csv('proppy_1.0.dev.tsv', sep='\\t', names =column_names)\n",
    "\n",
    "valid_data.head()"
   ]
  },
  {
   "cell_type": "code",
   "execution_count": 6,
   "metadata": {
    "colab": {
     "base_uri": "https://localhost:8080/",
     "height": 608
    },
    "id": "ybeHmQHGccp6",
    "outputId": "ec80572e-7054-4a69-e434-2aba9fbaf0ff"
   },
   "outputs": [
    {
     "data": {
      "text/html": [
       "<div>\n",
       "<style scoped>\n",
       "    .dataframe tbody tr th:only-of-type {\n",
       "        vertical-align: middle;\n",
       "    }\n",
       "\n",
       "    .dataframe tbody tr th {\n",
       "        vertical-align: top;\n",
       "    }\n",
       "\n",
       "    .dataframe thead th {\n",
       "        text-align: right;\n",
       "    }\n",
       "</style>\n",
       "<table border=\"1\" class=\"dataframe\">\n",
       "  <thead>\n",
       "    <tr style=\"text-align: right;\">\n",
       "      <th></th>\n",
       "      <th>text</th>\n",
       "      <th>location</th>\n",
       "      <th>tone</th>\n",
       "      <th>date</th>\n",
       "      <th>ID</th>\n",
       "      <th>URL</th>\n",
       "      <th>MBFC_factuality_label</th>\n",
       "      <th>URL.1</th>\n",
       "      <th>MBFC_factuality_label.1</th>\n",
       "      <th>URL_to_MBFC_page</th>\n",
       "      <th>source_name</th>\n",
       "      <th>MBFC_notes_about_source</th>\n",
       "      <th>MBFC_bias_label</th>\n",
       "      <th>source_URL</th>\n",
       "      <th>propaganda_label</th>\n",
       "    </tr>\n",
       "  </thead>\n",
       "  <tbody>\n",
       "    <tr>\n",
       "      <th>0</th>\n",
       "      <td>Eat in Connecticut teamed up with End Hunger C...</td>\n",
       "      <td>Shiraz, Fars, Iran</td>\n",
       "      <td>0.781250</td>\n",
       "      <td>2018-02-05</td>\n",
       "      <td>728352356</td>\n",
       "      <td>http://www.courant.com/community/west-hartford...</td>\n",
       "      <td>Dennis Hohenberger</td>\n",
       "      <td>Pub Crawl Benefits End Hunger Connecticut</td>\n",
       "      <td>HIGH</td>\n",
       "      <td>http://mediabiasfactcheck.com/the-hartford-cou...</td>\n",
       "      <td>The Hartford Courant</td>\n",
       "      <td>The Hartford Courant is the largest daily news...</td>\n",
       "      <td>leftcenter06</td>\n",
       "      <td>courant.com</td>\n",
       "      <td>-1</td>\n",
       "    </tr>\n",
       "    <tr>\n",
       "      <th>1</th>\n",
       "      <td>Owners of an old Pennsylvania power plant that...</td>\n",
       "      <td>Brunner Island, Pennsylvania, United States</td>\n",
       "      <td>-1.615799</td>\n",
       "      <td>2018-02-15</td>\n",
       "      <td>730955196</td>\n",
       "      <td>http://www.courant.com/politics/hc-pol-brunner...</td>\n",
       "      <td>Gregory B. Hladky</td>\n",
       "      <td>Sierra Club Reaches Deal On Plant Polluting Co...</td>\n",
       "      <td>HIGH</td>\n",
       "      <td>http://mediabiasfactcheck.com/the-hartford-cou...</td>\n",
       "      <td>The Hartford Courant</td>\n",
       "      <td>The Hartford Courant is the largest daily news...</td>\n",
       "      <td>leftcenter06</td>\n",
       "      <td>courant.com</td>\n",
       "      <td>-1</td>\n",
       "    </tr>\n",
       "    <tr>\n",
       "      <th>2</th>\n",
       "      <td>The majority owner of President Donald Trump's...</td>\n",
       "      <td>Manhattan, New York, United States</td>\n",
       "      <td>-4.177546</td>\n",
       "      <td>2018-02-25</td>\n",
       "      <td>733772812</td>\n",
       "      <td>http://www.courant.com/nation-world/ct-trump-p...</td>\n",
       "      <td>Ana Cerrud</td>\n",
       "      <td>Police, yelling, power turned off: Confrontati...</td>\n",
       "      <td>HIGH</td>\n",
       "      <td>http://mediabiasfactcheck.com/the-hartford-cou...</td>\n",
       "      <td>The Hartford Courant</td>\n",
       "      <td>The Hartford Courant is the largest daily news...</td>\n",
       "      <td>leftcenter06</td>\n",
       "      <td>courant.com</td>\n",
       "      <td>-1</td>\n",
       "    </tr>\n",
       "    <tr>\n",
       "      <th>3</th>\n",
       "      <td>Connecticut’s most likely option for using tol...</td>\n",
       "      <td>Connecticut, United States</td>\n",
       "      <td>-7.200811</td>\n",
       "      <td>2018-01-04</td>\n",
       "      <td>727857752</td>\n",
       "      <td>http://www.courant.com/politics/hc-pol-toll-co...</td>\n",
       "      <td>Gregory B. Hladky</td>\n",
       "      <td>'Congestion Pricing' Is A Likely Option If Con...</td>\n",
       "      <td>HIGH</td>\n",
       "      <td>http://mediabiasfactcheck.com/the-hartford-cou...</td>\n",
       "      <td>The Hartford Courant</td>\n",
       "      <td>The Hartford Courant is the largest daily news...</td>\n",
       "      <td>leftcenter06</td>\n",
       "      <td>courant.com</td>\n",
       "      <td>-1</td>\n",
       "    </tr>\n",
       "    <tr>\n",
       "      <th>4</th>\n",
       "      <td>Escaped prisoner Jerry Mercado is back in Conn...</td>\n",
       "      <td>Georgia, United States</td>\n",
       "      <td>-6.534091</td>\n",
       "      <td>2018-02-03</td>\n",
       "      <td>727792592</td>\n",
       "      <td>http://www.courant.com/breaking-news/hc-prison...</td>\n",
       "      <td>David Owens</td>\n",
       "      <td>Escaped Prisoner Jerry Mercado Back In Connect...</td>\n",
       "      <td>HIGH</td>\n",
       "      <td>http://mediabiasfactcheck.com/the-hartford-cou...</td>\n",
       "      <td>The Hartford Courant</td>\n",
       "      <td>The Hartford Courant is the largest daily news...</td>\n",
       "      <td>leftcenter06</td>\n",
       "      <td>courant.com</td>\n",
       "      <td>-1</td>\n",
       "    </tr>\n",
       "  </tbody>\n",
       "</table>\n",
       "</div>"
      ],
      "text/plain": [
       "                                                text  \\\n",
       "0  Eat in Connecticut teamed up with End Hunger C...   \n",
       "1  Owners of an old Pennsylvania power plant that...   \n",
       "2  The majority owner of President Donald Trump's...   \n",
       "3  Connecticut’s most likely option for using tol...   \n",
       "4  Escaped prisoner Jerry Mercado is back in Conn...   \n",
       "\n",
       "                                      location      tone        date  \\\n",
       "0                           Shiraz, Fars, Iran  0.781250  2018-02-05   \n",
       "1  Brunner Island, Pennsylvania, United States -1.615799  2018-02-15   \n",
       "2           Manhattan, New York, United States -4.177546  2018-02-25   \n",
       "3                   Connecticut, United States -7.200811  2018-01-04   \n",
       "4                       Georgia, United States -6.534091  2018-02-03   \n",
       "\n",
       "          ID                                                URL  \\\n",
       "0  728352356  http://www.courant.com/community/west-hartford...   \n",
       "1  730955196  http://www.courant.com/politics/hc-pol-brunner...   \n",
       "2  733772812  http://www.courant.com/nation-world/ct-trump-p...   \n",
       "3  727857752  http://www.courant.com/politics/hc-pol-toll-co...   \n",
       "4  727792592  http://www.courant.com/breaking-news/hc-prison...   \n",
       "\n",
       "  MBFC_factuality_label                                              URL.1  \\\n",
       "0    Dennis Hohenberger          Pub Crawl Benefits End Hunger Connecticut   \n",
       "1     Gregory B. Hladky  Sierra Club Reaches Deal On Plant Polluting Co...   \n",
       "2            Ana Cerrud  Police, yelling, power turned off: Confrontati...   \n",
       "3     Gregory B. Hladky  'Congestion Pricing' Is A Likely Option If Con...   \n",
       "4           David Owens  Escaped Prisoner Jerry Mercado Back In Connect...   \n",
       "\n",
       "  MBFC_factuality_label.1                                   URL_to_MBFC_page  \\\n",
       "0                    HIGH  http://mediabiasfactcheck.com/the-hartford-cou...   \n",
       "1                    HIGH  http://mediabiasfactcheck.com/the-hartford-cou...   \n",
       "2                    HIGH  http://mediabiasfactcheck.com/the-hartford-cou...   \n",
       "3                    HIGH  http://mediabiasfactcheck.com/the-hartford-cou...   \n",
       "4                    HIGH  http://mediabiasfactcheck.com/the-hartford-cou...   \n",
       "\n",
       "            source_name                            MBFC_notes_about_source  \\\n",
       "0  The Hartford Courant  The Hartford Courant is the largest daily news...   \n",
       "1  The Hartford Courant  The Hartford Courant is the largest daily news...   \n",
       "2  The Hartford Courant  The Hartford Courant is the largest daily news...   \n",
       "3  The Hartford Courant  The Hartford Courant is the largest daily news...   \n",
       "4  The Hartford Courant  The Hartford Courant is the largest daily news...   \n",
       "\n",
       "  MBFC_bias_label   source_URL  propaganda_label  \n",
       "0    leftcenter06  courant.com                -1  \n",
       "1    leftcenter06  courant.com                -1  \n",
       "2    leftcenter06  courant.com                -1  \n",
       "3    leftcenter06  courant.com                -1  \n",
       "4    leftcenter06  courant.com                -1  "
      ]
     },
     "execution_count": 6,
     "metadata": {},
     "output_type": "execute_result"
    }
   ],
   "source": [
    "# Loading testing data\n",
    "\n",
    "test_data = pd.read_csv('proppy_1.0.test.tsv', sep='\\t', names =column_names)\n",
    "test_data.head()"
   ]
  },
  {
   "cell_type": "code",
   "execution_count": 7,
   "metadata": {
    "colab": {
     "base_uri": "https://localhost:8080/"
    },
    "id": "3uHUgdhhcmXi",
    "outputId": "0455329e-8954-47e5-947e-e46e123903d9"
   },
   "outputs": [
    {
     "name": "stdout",
     "output_type": "stream",
     "text": [
      "Train shape: (35986, 15)\n",
      "valid shape: (5125, 15)\n",
      "Test shape: (10159, 15)\n"
     ]
    }
   ],
   "source": [
    "print(\"Train shape:\",train_data.shape)\n",
    "print(\"valid shape:\",valid_data.shape)\n",
    "print(\"Test shape:\",test_data.shape)"
   ]
  },
  {
   "cell_type": "markdown",
   "metadata": {
    "id": "qWhirBSVdrMt"
   },
   "source": [
    "# Data Cleaning"
   ]
  },
  {
   "cell_type": "code",
   "execution_count": 8,
   "metadata": {
    "colab": {
     "base_uri": "https://localhost:8080/",
     "height": 643
    },
    "id": "XvI8Klz7cyLa",
    "outputId": "dcbbdd99-de11-49eb-d3a1-bcabfd94e7a0"
   },
   "outputs": [
    {
     "data": {
      "text/html": [
       "<div>\n",
       "<style scoped>\n",
       "    .dataframe tbody tr th:only-of-type {\n",
       "        vertical-align: middle;\n",
       "    }\n",
       "\n",
       "    .dataframe tbody tr th {\n",
       "        vertical-align: top;\n",
       "    }\n",
       "\n",
       "    .dataframe thead th {\n",
       "        text-align: right;\n",
       "    }\n",
       "</style>\n",
       "<table border=\"1\" class=\"dataframe\">\n",
       "  <thead>\n",
       "    <tr style=\"text-align: right;\">\n",
       "      <th></th>\n",
       "      <th>text</th>\n",
       "      <th>location</th>\n",
       "      <th>tone</th>\n",
       "      <th>date</th>\n",
       "      <th>ID</th>\n",
       "      <th>URL</th>\n",
       "      <th>MBFC_factuality_label</th>\n",
       "      <th>URL.1</th>\n",
       "      <th>MBFC_factuality_label.1</th>\n",
       "      <th>URL_to_MBFC_page</th>\n",
       "      <th>source_name</th>\n",
       "      <th>MBFC_notes_about_source</th>\n",
       "      <th>MBFC_bias_label</th>\n",
       "      <th>source_URL</th>\n",
       "      <th>propaganda_label</th>\n",
       "    </tr>\n",
       "  </thead>\n",
       "  <tbody>\n",
       "    <tr>\n",
       "      <th>0</th>\n",
       "      <td>Et tu, Rhody?  A recent editorial in the Provi...</td>\n",
       "      <td>Rhode Island, United States</td>\n",
       "      <td>-3.181818</td>\n",
       "      <td>2018-02-02</td>\n",
       "      <td>727600136</td>\n",
       "      <td>http://www.courant.com/opinion/editorials/hc-e...</td>\n",
       "      <td>unknown</td>\n",
       "      <td>Editorial: Why, Rhode Island, Why?</td>\n",
       "      <td>HIGH</td>\n",
       "      <td>http://mediabiasfactcheck.com/the-hartford-cou...</td>\n",
       "      <td>The Hartford Courant</td>\n",
       "      <td>The Hartford Courant is the largest daily news...</td>\n",
       "      <td>leftcenter06</td>\n",
       "      <td>courant.com</td>\n",
       "      <td>-1</td>\n",
       "    </tr>\n",
       "    <tr>\n",
       "      <th>1</th>\n",
       "      <td>A recent post in The Farmington Mirror — our t...</td>\n",
       "      <td>Rhode Island, United States</td>\n",
       "      <td>-0.424328</td>\n",
       "      <td>2018-02-17</td>\n",
       "      <td>731714618</td>\n",
       "      <td>http://www.courant.com/features/hc-fea-avoidin...</td>\n",
       "      <td>Teresa M. Pelham</td>\n",
       "      <td>A Tip For Navigating The Dreaded School Drop-O...</td>\n",
       "      <td>HIGH</td>\n",
       "      <td>http://mediabiasfactcheck.com/the-hartford-cou...</td>\n",
       "      <td>The Hartford Courant</td>\n",
       "      <td>The Hartford Courant is the largest daily news...</td>\n",
       "      <td>leftcenter06</td>\n",
       "      <td>courant.com</td>\n",
       "      <td>-1</td>\n",
       "    </tr>\n",
       "    <tr>\n",
       "      <th>2</th>\n",
       "      <td>President Donald Trump, as he often does while...</td>\n",
       "      <td>Florida, United States</td>\n",
       "      <td>-2.469136</td>\n",
       "      <td>2018-02-17</td>\n",
       "      <td>731714635</td>\n",
       "      <td>http://www.courant.com/nation-world/ct-trump-f...</td>\n",
       "      <td>Josh Dawsey</td>\n",
       "      <td>Trump focuses on praising first responders in ...</td>\n",
       "      <td>HIGH</td>\n",
       "      <td>http://mediabiasfactcheck.com/the-hartford-cou...</td>\n",
       "      <td>The Hartford Courant</td>\n",
       "      <td>The Hartford Courant is the largest daily news...</td>\n",
       "      <td>leftcenter06</td>\n",
       "      <td>courant.com</td>\n",
       "      <td>-1</td>\n",
       "    </tr>\n",
       "    <tr>\n",
       "      <th>3</th>\n",
       "      <td>February is Black History Month, and nothing l...</td>\n",
       "      <td>Bristol, Bristol, City of, United Kingdom</td>\n",
       "      <td>-0.894632</td>\n",
       "      <td>2018-02-06</td>\n",
       "      <td>728627182</td>\n",
       "      <td>http://www.courant.com/entertainment/museums-g...</td>\n",
       "      <td>Susan Dunne</td>\n",
       "      <td>African Slave-Trading Center, Frederick Dougla...</td>\n",
       "      <td>HIGH</td>\n",
       "      <td>http://mediabiasfactcheck.com/the-hartford-cou...</td>\n",
       "      <td>The Hartford Courant</td>\n",
       "      <td>The Hartford Courant is the largest daily news...</td>\n",
       "      <td>leftcenter06</td>\n",
       "      <td>courant.com</td>\n",
       "      <td>-1</td>\n",
       "    </tr>\n",
       "    <tr>\n",
       "      <th>4</th>\n",
       "      <td>The snow was so heavy, whipped up by gusting w...</td>\n",
       "      <td>Connecticut, United States</td>\n",
       "      <td>-4.800000</td>\n",
       "      <td>2018-02-06</td>\n",
       "      <td>728627443</td>\n",
       "      <td>http://www.courant.com/weather/hc-br-blizzard-...</td>\n",
       "      <td>Nicholas Rondinone</td>\n",
       "      <td>40 Years Ago, Blizzard Of '78 Walloped Connect...</td>\n",
       "      <td>HIGH</td>\n",
       "      <td>http://mediabiasfactcheck.com/the-hartford-cou...</td>\n",
       "      <td>The Hartford Courant</td>\n",
       "      <td>The Hartford Courant is the largest daily news...</td>\n",
       "      <td>leftcenter06</td>\n",
       "      <td>courant.com</td>\n",
       "      <td>-1</td>\n",
       "    </tr>\n",
       "  </tbody>\n",
       "</table>\n",
       "</div>"
      ],
      "text/plain": [
       "                                                text  \\\n",
       "0  Et tu, Rhody?  A recent editorial in the Provi...   \n",
       "1  A recent post in The Farmington Mirror — our t...   \n",
       "2  President Donald Trump, as he often does while...   \n",
       "3  February is Black History Month, and nothing l...   \n",
       "4  The snow was so heavy, whipped up by gusting w...   \n",
       "\n",
       "                                    location      tone        date         ID  \\\n",
       "0                Rhode Island, United States -3.181818  2018-02-02  727600136   \n",
       "1                Rhode Island, United States -0.424328  2018-02-17  731714618   \n",
       "2                     Florida, United States -2.469136  2018-02-17  731714635   \n",
       "3  Bristol, Bristol, City of, United Kingdom -0.894632  2018-02-06  728627182   \n",
       "4                 Connecticut, United States -4.800000  2018-02-06  728627443   \n",
       "\n",
       "                                                 URL MBFC_factuality_label  \\\n",
       "0  http://www.courant.com/opinion/editorials/hc-e...               unknown   \n",
       "1  http://www.courant.com/features/hc-fea-avoidin...      Teresa M. Pelham   \n",
       "2  http://www.courant.com/nation-world/ct-trump-f...           Josh Dawsey   \n",
       "3  http://www.courant.com/entertainment/museums-g...           Susan Dunne   \n",
       "4  http://www.courant.com/weather/hc-br-blizzard-...    Nicholas Rondinone   \n",
       "\n",
       "                                               URL.1 MBFC_factuality_label.1  \\\n",
       "0                 Editorial: Why, Rhode Island, Why?                    HIGH   \n",
       "1  A Tip For Navigating The Dreaded School Drop-O...                    HIGH   \n",
       "2  Trump focuses on praising first responders in ...                    HIGH   \n",
       "3  African Slave-Trading Center, Frederick Dougla...                    HIGH   \n",
       "4  40 Years Ago, Blizzard Of '78 Walloped Connect...                    HIGH   \n",
       "\n",
       "                                    URL_to_MBFC_page           source_name  \\\n",
       "0  http://mediabiasfactcheck.com/the-hartford-cou...  The Hartford Courant   \n",
       "1  http://mediabiasfactcheck.com/the-hartford-cou...  The Hartford Courant   \n",
       "2  http://mediabiasfactcheck.com/the-hartford-cou...  The Hartford Courant   \n",
       "3  http://mediabiasfactcheck.com/the-hartford-cou...  The Hartford Courant   \n",
       "4  http://mediabiasfactcheck.com/the-hartford-cou...  The Hartford Courant   \n",
       "\n",
       "                             MBFC_notes_about_source MBFC_bias_label  \\\n",
       "0  The Hartford Courant is the largest daily news...    leftcenter06   \n",
       "1  The Hartford Courant is the largest daily news...    leftcenter06   \n",
       "2  The Hartford Courant is the largest daily news...    leftcenter06   \n",
       "3  The Hartford Courant is the largest daily news...    leftcenter06   \n",
       "4  The Hartford Courant is the largest daily news...    leftcenter06   \n",
       "\n",
       "    source_URL  propaganda_label  \n",
       "0  courant.com                -1  \n",
       "1  courant.com                -1  \n",
       "2  courant.com                -1  \n",
       "3  courant.com                -1  \n",
       "4  courant.com                -1  "
      ]
     },
     "execution_count": 8,
     "metadata": {},
     "output_type": "execute_result"
    }
   ],
   "source": [
    "train_data.head()"
   ]
  },
  {
   "cell_type": "code",
   "execution_count": 9,
   "metadata": {
    "colab": {
     "base_uri": "https://localhost:8080/",
     "height": 643
    },
    "id": "TWuTeyzedx4j",
    "outputId": "edfd273f-9858-4abb-ed85-a25744dcab05"
   },
   "outputs": [
    {
     "data": {
      "text/html": [
       "<div>\n",
       "<style scoped>\n",
       "    .dataframe tbody tr th:only-of-type {\n",
       "        vertical-align: middle;\n",
       "    }\n",
       "\n",
       "    .dataframe tbody tr th {\n",
       "        vertical-align: top;\n",
       "    }\n",
       "\n",
       "    .dataframe thead th {\n",
       "        text-align: right;\n",
       "    }\n",
       "</style>\n",
       "<table border=\"1\" class=\"dataframe\">\n",
       "  <thead>\n",
       "    <tr style=\"text-align: right;\">\n",
       "      <th></th>\n",
       "      <th>text</th>\n",
       "      <th>location</th>\n",
       "      <th>tone</th>\n",
       "      <th>date</th>\n",
       "      <th>ID</th>\n",
       "      <th>URL</th>\n",
       "      <th>MBFC_factuality_label</th>\n",
       "      <th>URL.1</th>\n",
       "      <th>MBFC_factuality_label.1</th>\n",
       "      <th>URL_to_MBFC_page</th>\n",
       "      <th>source_name</th>\n",
       "      <th>MBFC_notes_about_source</th>\n",
       "      <th>MBFC_bias_label</th>\n",
       "      <th>source_URL</th>\n",
       "      <th>propaganda_label</th>\n",
       "    </tr>\n",
       "  </thead>\n",
       "  <tbody>\n",
       "    <tr>\n",
       "      <th>35981</th>\n",
       "      <td>From The Telegraph:  Towns in Brazil have beco...</td>\n",
       "      <td>Hollywood, California, United States</td>\n",
       "      <td>-3.193277</td>\n",
       "      <td>2018-09-10</td>\n",
       "      <td>785781276</td>\n",
       "      <td>https://www.lewrockwell.com/2018/09/no_author/...</td>\n",
       "      <td>NaN</td>\n",
       "      <td>Escape to Boa Vista</td>\n",
       "      <td>unknown</td>\n",
       "      <td>unknown</td>\n",
       "      <td>lewrockwell.com</td>\n",
       "      <td>unknown</td>\n",
       "      <td>unknown</td>\n",
       "      <td>lewrockwell.com</td>\n",
       "      <td>1</td>\n",
       "    </tr>\n",
       "    <tr>\n",
       "      <th>35982</th>\n",
       "      <td>The second episode of Consortium News on Flash...</td>\n",
       "      <td>Pacifica, California, United States</td>\n",
       "      <td>0.526316</td>\n",
       "      <td>2018-09-10</td>\n",
       "      <td>785781322</td>\n",
       "      <td>https://www.lewrockwell.com/2018/09/no_author/...</td>\n",
       "      <td>Jim Macgregor</td>\n",
       "      <td>Flash Points</td>\n",
       "      <td>unknown</td>\n",
       "      <td>unknown</td>\n",
       "      <td>lewrockwell.com</td>\n",
       "      <td>unknown</td>\n",
       "      <td>unknown</td>\n",
       "      <td>lewrockwell.com</td>\n",
       "      <td>1</td>\n",
       "    </tr>\n",
       "    <tr>\n",
       "      <th>35983</th>\n",
       "      <td>It is beginning.  Actually, it’s been happenin...</td>\n",
       "      <td>White House, District of Columbia, United States</td>\n",
       "      <td>-3.455285</td>\n",
       "      <td>2018-09-10</td>\n",
       "      <td>785781455</td>\n",
       "      <td>https://www.lewrockwell.com/2018/09/eric-peter...</td>\n",
       "      <td>Eric Peters</td>\n",
       "      <td>Tesla’s Death Dive</td>\n",
       "      <td>unknown</td>\n",
       "      <td>unknown</td>\n",
       "      <td>lewrockwell.com</td>\n",
       "      <td>unknown</td>\n",
       "      <td>unknown</td>\n",
       "      <td>lewrockwell.com</td>\n",
       "      <td>1</td>\n",
       "    </tr>\n",
       "    <tr>\n",
       "      <th>35984</th>\n",
       "      <td>Justin’s note: As regular Dispatch readers kno...</td>\n",
       "      <td>United States</td>\n",
       "      <td>-1.052049</td>\n",
       "      <td>2018-09-10</td>\n",
       "      <td>785781711</td>\n",
       "      <td>https://www.lewrockwell.com/2018/09/doug-casey...</td>\n",
       "      <td>Doug Casey</td>\n",
       "      <td>Doug Casey on the ‘Politically Correct’ Movement</td>\n",
       "      <td>unknown</td>\n",
       "      <td>unknown</td>\n",
       "      <td>lewrockwell.com</td>\n",
       "      <td>unknown</td>\n",
       "      <td>unknown</td>\n",
       "      <td>lewrockwell.com</td>\n",
       "      <td>1</td>\n",
       "    </tr>\n",
       "    <tr>\n",
       "      <th>35985</th>\n",
       "      <td>“No man can serve two masters” (Matthew 6:24)....</td>\n",
       "      <td>United States</td>\n",
       "      <td>0.256410</td>\n",
       "      <td>2018-09-11</td>\n",
       "      <td>786060460</td>\n",
       "      <td>https://www.lewrockwell.com/2018/09/laurence-m...</td>\n",
       "      <td>Laurence M. Vance</td>\n",
       "      <td>Serving Two Masters</td>\n",
       "      <td>unknown</td>\n",
       "      <td>unknown</td>\n",
       "      <td>lewrockwell.com</td>\n",
       "      <td>unknown</td>\n",
       "      <td>unknown</td>\n",
       "      <td>lewrockwell.com</td>\n",
       "      <td>1</td>\n",
       "    </tr>\n",
       "  </tbody>\n",
       "</table>\n",
       "</div>"
      ],
      "text/plain": [
       "                                                    text  \\\n",
       "35981  From The Telegraph:  Towns in Brazil have beco...   \n",
       "35982  The second episode of Consortium News on Flash...   \n",
       "35983  It is beginning.  Actually, it’s been happenin...   \n",
       "35984  Justin’s note: As regular Dispatch readers kno...   \n",
       "35985  “No man can serve two masters” (Matthew 6:24)....   \n",
       "\n",
       "                                               location      tone        date  \\\n",
       "35981              Hollywood, California, United States -3.193277  2018-09-10   \n",
       "35982               Pacifica, California, United States  0.526316  2018-09-10   \n",
       "35983  White House, District of Columbia, United States -3.455285  2018-09-10   \n",
       "35984                                     United States -1.052049  2018-09-10   \n",
       "35985                                     United States  0.256410  2018-09-11   \n",
       "\n",
       "              ID                                                URL  \\\n",
       "35981  785781276  https://www.lewrockwell.com/2018/09/no_author/...   \n",
       "35982  785781322  https://www.lewrockwell.com/2018/09/no_author/...   \n",
       "35983  785781455  https://www.lewrockwell.com/2018/09/eric-peter...   \n",
       "35984  785781711  https://www.lewrockwell.com/2018/09/doug-casey...   \n",
       "35985  786060460  https://www.lewrockwell.com/2018/09/laurence-m...   \n",
       "\n",
       "      MBFC_factuality_label                                             URL.1  \\\n",
       "35981                   NaN                               Escape to Boa Vista   \n",
       "35982         Jim Macgregor                                      Flash Points   \n",
       "35983           Eric Peters                                Tesla’s Death Dive   \n",
       "35984            Doug Casey  Doug Casey on the ‘Politically Correct’ Movement   \n",
       "35985     Laurence M. Vance                               Serving Two Masters   \n",
       "\n",
       "      MBFC_factuality_label.1 URL_to_MBFC_page      source_name  \\\n",
       "35981                 unknown          unknown  lewrockwell.com   \n",
       "35982                 unknown          unknown  lewrockwell.com   \n",
       "35983                 unknown          unknown  lewrockwell.com   \n",
       "35984                 unknown          unknown  lewrockwell.com   \n",
       "35985                 unknown          unknown  lewrockwell.com   \n",
       "\n",
       "      MBFC_notes_about_source MBFC_bias_label       source_URL  \\\n",
       "35981                 unknown         unknown  lewrockwell.com   \n",
       "35982                 unknown         unknown  lewrockwell.com   \n",
       "35983                 unknown         unknown  lewrockwell.com   \n",
       "35984                 unknown         unknown  lewrockwell.com   \n",
       "35985                 unknown         unknown  lewrockwell.com   \n",
       "\n",
       "       propaganda_label  \n",
       "35981                 1  \n",
       "35982                 1  \n",
       "35983                 1  \n",
       "35984                 1  \n",
       "35985                 1  "
      ]
     },
     "execution_count": 9,
     "metadata": {},
     "output_type": "execute_result"
    }
   ],
   "source": [
    "train_data.tail()"
   ]
  },
  {
   "cell_type": "code",
   "execution_count": 10,
   "metadata": {
    "colab": {
     "base_uri": "https://localhost:8080/"
    },
    "id": "fAXAMA3ZeP-4",
    "outputId": "6554f756-c589-47a0-b516-1436a104aa6d"
   },
   "outputs": [
    {
     "name": "stdout",
     "output_type": "stream",
     "text": [
      "<class 'pandas.core.frame.DataFrame'>\n",
      "RangeIndex: 35986 entries, 0 to 35985\n",
      "Data columns (total 15 columns):\n",
      " #   Column                   Non-Null Count  Dtype  \n",
      "---  ------                   --------------  -----  \n",
      " 0   text                     35986 non-null  object \n",
      " 1   location                 35986 non-null  object \n",
      " 2   tone                     35986 non-null  float64\n",
      " 3   date                     35986 non-null  object \n",
      " 4   ID                       35986 non-null  int64  \n",
      " 5   URL                      35986 non-null  object \n",
      " 6   MBFC_factuality_label    26902 non-null  object \n",
      " 7   URL.1                    35986 non-null  object \n",
      " 8   MBFC_factuality_label.1  35986 non-null  object \n",
      " 9   URL_to_MBFC_page         35986 non-null  object \n",
      " 10  source_name              35986 non-null  object \n",
      " 11  MBFC_notes_about_source  29979 non-null  object \n",
      " 12  MBFC_bias_label          35986 non-null  object \n",
      " 13  source_URL               35986 non-null  object \n",
      " 14  propaganda_label         35986 non-null  int64  \n",
      "dtypes: float64(1), int64(2), object(12)\n",
      "memory usage: 4.1+ MB\n"
     ]
    }
   ],
   "source": [
    "train_data.info()"
   ]
  },
  {
   "cell_type": "code",
   "execution_count": 11,
   "metadata": {
    "colab": {
     "base_uri": "https://localhost:8080/"
    },
    "id": "V1E7ycw4UnM4",
    "outputId": "e6b8267b-d6d1-45cd-e593-fc2744d88b9a"
   },
   "outputs": [
    {
     "data": {
      "text/plain": [
       "text                          0\n",
       "location                      0\n",
       "tone                          0\n",
       "date                          0\n",
       "ID                            0\n",
       "URL                           0\n",
       "MBFC_factuality_label      9084\n",
       "URL.1                         0\n",
       "MBFC_factuality_label.1       0\n",
       "URL_to_MBFC_page              0\n",
       "source_name                   0\n",
       "MBFC_notes_about_source    6007\n",
       "MBFC_bias_label               0\n",
       "source_URL                    0\n",
       "propaganda_label              0\n",
       "dtype: int64"
      ]
     },
     "execution_count": 11,
     "metadata": {},
     "output_type": "execute_result"
    }
   ],
   "source": [
    "# checking null values present in the dataset\n",
    "train_data.isnull().sum()"
   ]
  },
  {
   "cell_type": "code",
   "execution_count": 12,
   "metadata": {},
   "outputs": [
    {
     "data": {
      "text/plain": [
       "'A recent post in The Farmington Mirror — our town’s version of The Onion — encouraged parents to take advantage of a shuttle service offered by the town, which not only brings your children to schools from locations “in close proximity to your home,” but is also free!  “The decision follows complaints made on social media regarding long parent drop-off lines,” the post reads. The Mirror notes that the shuttles are “easily identifiable by their bright yellow color and traffic-stopping flashing red lights.”  It appears that the practice of driving students to and from school in privately owned cars began sometime between the 1980s (when I was in school, and there was no such thing as a “drop-off line”) and the mid-2000s, when some parents seemed aghast to learn that I actually let my children ride the school bus. Sometimes both ways!  When we moved to a house within walking distance of our neighborhood elementary school, however, I became a part of this Drop-Off Line Tribe. A number of factors often prevented us from walking to and from school, including not being ready in time to take the 13-minute walk, icy sidewalks, rain, snow, clouds, sun and children simply being unable to make their legs move.  So I’d drive them to school. Sure, we’d miss out on fresh air, exercise and nature, but my kids did witness their mom showing restraint and remaining calm in the face of adversity. This happened regularly, as some otherwise reasonable parent would scoot her minivan to the front of the line and actually put the car in park, assist her child in exiting the car, retrieve the viola from the trunk, and wipe down traces of oatmeal on her child’s face.  In any other world, those of us behind such a driver would honk our horns and gesticulate wildly, but these are our neighbors, so we’d have to pretend we didn’t mind.  I just finished reading Maria Semple’s “Where’d You Go, Bernadette,” a book in which the drop-off line features prominently, where the main character was said to have run over another parent’s foot in an effort to avoid talking to her.  At the beginning of this school year (before I caved and began letting my son drive my car) I flagrantly ignored the well-established rules in our high school parking lot. The line practically snaked across the Rhode Island border.  My son has even less patience than I, and in an effort to not be marked tardy, he bolted from the car and walked to the building. There I sat, with no child to drop off, yet still being required to spend the next 5 minutes of my life moving one car length at a time around the perimeter of the parking lot. I decided to cut through the lot, which seemed like a brilliant idea until the police officer assigned to drop-off line traffic duty told me otherwise. Oops. Sorry, sir.  My youngest child began attending a new magnet school this year, which involves both dropping him off and a bus ride, since there’s no guarantee that he’d find his way a half-mile to the bus stop in the dark. We managed to miss the bus on the first day of school so I drove him in and had the pleasure of meeting the principal and a handful of other important people waiting at the front door. As I’ve been doing for the past 16 years, I did this drive wearing slippers and something resembling pajamas, and with hair that looked like it might contain a family of birds. It’s so important to make a great first impression!  Any parent who has experienced the drop-off line has likely also experienced what is perhaps even more hellish: The pick-up line. Keep it together, friends: Follow the rules, remain calm, and maybe even let your kiddo ride the bus every now and then.  Teresa M. Pelham is a Farmington-based writer. She is the author of three children’s books, and frequently visits schools with her therapy dog to share her message about animal rescue. Contact Teresa at tpelham@comcast.net.'"
      ]
     },
     "execution_count": 12,
     "metadata": {},
     "output_type": "execute_result"
    }
   ],
   "source": [
    "train_data['text'][1]"
   ]
  },
  {
   "cell_type": "code",
   "execution_count": 13,
   "metadata": {
    "colab": {
     "base_uri": "https://localhost:8080/",
     "height": 159
    },
    "id": "URj0XARPeT3J",
    "outputId": "46e3b0c5-1901-455a-e663-abe61db027fa"
   },
   "outputs": [
    {
     "data": {
      "text/plain": [
       "'Prosecutors filed felony charges on Wednesday against an immigrant illegally living in the U.S. who is suspected in a drunken-driving crash that killed Indianapolis Colts linebacker Edwin Jackson and an Uber driver.  Manuel Orrego-Savala, who is from Guatemala and has twice been deported from the U.S., is charged with causing death while driving intoxicated and leaving the scene of an accident. The 37-year-old said little during his initial court hearing, responding through an interpreter as the judge explained the proceedings and charges.  \"He\\'s very distraught to say the least,\" said his lawyer, Jorge Torres. \"He\\'s very confused.\"  Investigators said Orrego-Savala was driving the pickup truck that hit Jackson and his Uber driver, 54-year-old Jeffrey Monroe, while the men were standing outside Monroe\\'s car early Sunday along Interstate 70. Court documents allege a blood test conducted at a hospital determined Orrego-Savala had a blood-alcohol level of 0.19 percent, more than double Indiana\\'s legal limit for driving.  The two most serious charges each carry maximum sentence of up to 20 years in prison.  Orrego-Savala was deported in 2007 and 2009, and was again living illegally in the U.S. at the time of the crash, according to investigators. He was charged late Tuesday by federal prosecutors with illegal re-entry of a previously deported alien. He faces up to 10 years in prison on that charge, which the U.S. attorney\\'s office said would be handled after any state charges are resolved.  President Donald Trump drew added attention to the case on Twitter, calling the highway collision that killed Jackson and Monroe \"disgraceful.\" The president also prodded Democrats to work with him on illegal immigration and border security.  Marion County Prosecutor Terry Curry criticized the comments, saying his office would \"vigorously prosecute\" the fatal crash case regardless of whether Orrego-Savala was in the country illegally.  \"We are disheartened that ghoulish and inappropriate public commentary has politicized this tragedy,\" the Democratic prosecutor said in a statement. \"Much of such commentary, including tweets by the president, fails to acknowledge that both Edwin Jackson and Jeffrey Monroe lost their lives on Sunday. We will simply seek justice on behalf of the families of those two victims.\"  Torres also said that Orrego-Savala\\'s immigration status has no bearing on the crash case. The attorney noted his client has been living and doing construction work in the Indianapolis area for several years.  A spokesman for Jackson\\'s family has said his relatives are devastated and planned no response to Trump\\'s tweets about the crash and the suspect\\'s immigration status.  \"The family is in shock, as you can imagine. This obviously happened so unexpectedly,\" Atlanta attorney Daniel Meachum said.  Investigators said they believe Orrego-Savala was intoxicated at the time of the Indiana crash.  Orrego-Savala had a 2005 conviction for driving under the influence in Redwood City, California. He also has numerous other misdemeanor convictions and arrests in California and Indiana, according to U.S. Immigration and Customs Enforcement spokeswoman Nicole Alberico.  In the 2005 case, he pleaded no contest to two separate drunken-driving offenses and was given a brief jail sentence, San Mateo County District Attorney Steve Wagstaffe said Tuesday.  Orrego-Savala remains jailed in Indianapolis. Federal and county prosecutors spell his name as \"Orrego-Zavala\" in charging documents, but his attorney said his name is spelled Orrego-Savala, a spelling listed among his aliases in the federal documents.  He appeared Tuesday before a judge who advised him of his rights. Indianapolis television station WRTV reported that Orrego-Savala told the judge through an interpreter: \"I wasn\\'t driving the car. I don\\'t know why I am here.\"  A police news release did not mention the presence of anyone else in the pickup truck.'"
      ]
     },
     "execution_count": 13,
     "metadata": {},
     "output_type": "execute_result"
    }
   ],
   "source": [
    "train_data['text'][100]"
   ]
  },
  {
   "cell_type": "code",
   "execution_count": 14,
   "metadata": {
    "colab": {
     "base_uri": "https://localhost:8080/"
    },
    "id": "l1KVRuLKeZXR",
    "outputId": "0772dc00-1aa9-4163-b195-eb7353d960d6"
   },
   "outputs": [
    {
     "name": "stdout",
     "output_type": "stream",
     "text": [
      "<class 'pandas.core.frame.DataFrame'>\n",
      "RangeIndex: 5125 entries, 0 to 5124\n",
      "Data columns (total 15 columns):\n",
      " #   Column                   Non-Null Count  Dtype  \n",
      "---  ------                   --------------  -----  \n",
      " 0   text                     5125 non-null   object \n",
      " 1   location                 5125 non-null   object \n",
      " 2   tone                     5125 non-null   float64\n",
      " 3   date                     5125 non-null   object \n",
      " 4   ID                       5125 non-null   int64  \n",
      " 5   URL                      5125 non-null   object \n",
      " 6   MBFC_factuality_label    3451 non-null   object \n",
      " 7   URL.1                    5125 non-null   object \n",
      " 8   MBFC_factuality_label.1  5125 non-null   object \n",
      " 9   URL_to_MBFC_page         5125 non-null   object \n",
      " 10  source_name              5125 non-null   object \n",
      " 11  MBFC_notes_about_source  4513 non-null   object \n",
      " 12  MBFC_bias_label          5125 non-null   object \n",
      " 13  source_URL               5125 non-null   object \n",
      " 14  propaganda_label         5125 non-null   int64  \n",
      "dtypes: float64(1), int64(2), object(12)\n",
      "memory usage: 600.7+ KB\n"
     ]
    }
   ],
   "source": [
    "valid_data.info()"
   ]
  },
  {
   "cell_type": "code",
   "execution_count": 15,
   "metadata": {
    "colab": {
     "base_uri": "https://localhost:8080/"
    },
    "id": "3PR_xZAdgEFW",
    "outputId": "9a8ef083-1b16-45b1-f086-8b66795066ad"
   },
   "outputs": [
    {
     "name": "stdout",
     "output_type": "stream",
     "text": [
      "<class 'pandas.core.frame.DataFrame'>\n",
      "RangeIndex: 10159 entries, 0 to 10158\n",
      "Data columns (total 15 columns):\n",
      " #   Column                   Non-Null Count  Dtype  \n",
      "---  ------                   --------------  -----  \n",
      " 0   text                     10159 non-null  object \n",
      " 1   location                 10159 non-null  object \n",
      " 2   tone                     10159 non-null  float64\n",
      " 3   date                     10159 non-null  object \n",
      " 4   ID                       10159 non-null  int64  \n",
      " 5   URL                      10159 non-null  object \n",
      " 6   MBFC_factuality_label    6634 non-null   object \n",
      " 7   URL.1                    10159 non-null  object \n",
      " 8   MBFC_factuality_label.1  10159 non-null  object \n",
      " 9   URL_to_MBFC_page         10159 non-null  object \n",
      " 10  source_name              10159 non-null  object \n",
      " 11  MBFC_notes_about_source  8961 non-null   object \n",
      " 12  MBFC_bias_label          10159 non-null  object \n",
      " 13  source_URL               10159 non-null  object \n",
      " 14  propaganda_label         10159 non-null  int64  \n",
      "dtypes: float64(1), int64(2), object(12)\n",
      "memory usage: 1.2+ MB\n"
     ]
    }
   ],
   "source": [
    "test_data.info()"
   ]
  },
  {
   "cell_type": "code",
   "execution_count": 16,
   "metadata": {
    "id": "SLcRBP-gU4ag"
   },
   "outputs": [],
   "source": [
    "# Selecting necessary columns: input and output variable\n",
    "col_to_select = ['text', 'propaganda_label']\n",
    "\n",
    "# filtering the training data with selected columns\n",
    "train_data = train_data[col_to_select]\n"
   ]
  },
  {
   "cell_type": "code",
   "execution_count": 17,
   "metadata": {
    "colab": {
     "base_uri": "https://localhost:8080/"
    },
    "id": "cMQjAdUkU_Zj",
    "outputId": "155784f4-4169-46da-ffa5-6dd1ad097d64"
   },
   "outputs": [
    {
     "data": {
      "text/plain": [
       "text                0.0\n",
       "propaganda_label    0.0\n",
       "dtype: float64"
      ]
     },
     "execution_count": 17,
     "metadata": {},
     "output_type": "execute_result"
    }
   ],
   "source": [
    "## checking for number of duplicate rows in each column\n",
    "train_data[train_data.duplicated()].sum()\n",
    "\n",
    "# There are no rows present as duplicated in the dataset"
   ]
  },
  {
   "cell_type": "markdown",
   "metadata": {
    "id": "cOhpRFtIU2Ck"
   },
   "source": [
    "# Target label analysis\n"
   ]
  },
  {
   "cell_type": "code",
   "execution_count": 18,
   "metadata": {
    "colab": {
     "base_uri": "https://localhost:8080/",
     "height": 480
    },
    "id": "OppeSEjLgHWL",
    "outputId": "3398f087-4815-4113-9e62-e2308db9fd28"
   },
   "outputs": [
    {
     "data": {
      "image/png": "[encoded data removed]",
      "text/plain": [
       "<Figure size 640x480 with 1 Axes>"
      ]
     },
     "metadata": {},
     "output_type": "display_data"
    }
   ],
   "source": [
    "import seaborn as sns\n",
    "import matplotlib.pyplot as plt\n",
    "\n",
    "sns.set(style='darkgrid')\n",
    "count_plt = sns.countplot(x=train_data['propaganda_label'], data=train_data['propaganda_label'])\n",
    "count_plt.set_title('Target label analysis')\n",
    "plt.show()"
   ]
  },
  {
   "cell_type": "code",
   "execution_count": 19,
   "metadata": {
    "colab": {
     "base_uri": "https://localhost:8080/"
    },
    "id": "wlo0fSt9ggR8",
    "outputId": "ce084291-f020-4da2-a34c-39693c134f3a"
   },
   "outputs": [
    {
     "data": {
      "text/plain": [
       "2"
      ]
     },
     "execution_count": 19,
     "metadata": {},
     "output_type": "execute_result"
    }
   ],
   "source": [
    "train_data['propaganda_label'].nunique()"
   ]
  },
  {
   "cell_type": "markdown",
   "metadata": {
    "id": "htMgLj_khVTE"
   },
   "source": [
    "# Text Preprocessing\n",
    "\n"
   ]
  },
  {
   "cell_type": "code",
   "execution_count": 20,
   "metadata": {
    "colab": {
     "base_uri": "https://localhost:8080/",
     "height": 548
    },
    "id": "-6BwwuUYVf4P",
    "outputId": "1e37b47f-93ef-4db5-a2e1-cd640fc2c579"
   },
   "outputs": [
    {
     "data": {
      "text/plain": [
       "'Prosecutors filed felony charges on Wednesday against an immigrant illegally living in the U.S. who is suspected in a drunken-driving crash that killed Indianapolis Colts linebacker Edwin Jackson and an Uber driver.  Manuel Orrego-Savala, who is from Guatemala and has twice been deported from the U.S., is charged with causing death while driving intoxicated and leaving the scene of an accident. The 37-year-old said little during his initial court hearing, responding through an interpreter as the judge explained the proceedings and charges.  \"He\\'s very distraught to say the least,\" said his lawyer, Jorge Torres. \"He\\'s very confused.\"  Investigators said Orrego-Savala was driving the pickup truck that hit Jackson and his Uber driver, 54-year-old Jeffrey Monroe, while the men were standing outside Monroe\\'s car early Sunday along Interstate 70. Court documents allege a blood test conducted at a hospital determined Orrego-Savala had a blood-alcohol level of 0.19 percent, more than double Indiana\\'s legal limit for driving.  The two most serious charges each carry maximum sentence of up to 20 years in prison.  Orrego-Savala was deported in 2007 and 2009, and was again living illegally in the U.S. at the time of the crash, according to investigators. He was charged late Tuesday by federal prosecutors with illegal re-entry of a previously deported alien. He faces up to 10 years in prison on that charge, which the U.S. attorney\\'s office said would be handled after any state charges are resolved.  President Donald Trump drew added attention to the case on Twitter, calling the highway collision that killed Jackson and Monroe \"disgraceful.\" The president also prodded Democrats to work with him on illegal immigration and border security.  Marion County Prosecutor Terry Curry criticized the comments, saying his office would \"vigorously prosecute\" the fatal crash case regardless of whether Orrego-Savala was in the country illegally.  \"We are disheartened that ghoulish and inappropriate public commentary has politicized this tragedy,\" the Democratic prosecutor said in a statement. \"Much of such commentary, including tweets by the president, fails to acknowledge that both Edwin Jackson and Jeffrey Monroe lost their lives on Sunday. We will simply seek justice on behalf of the families of those two victims.\"  Torres also said that Orrego-Savala\\'s immigration status has no bearing on the crash case. The attorney noted his client has been living and doing construction work in the Indianapolis area for several years.  A spokesman for Jackson\\'s family has said his relatives are devastated and planned no response to Trump\\'s tweets about the crash and the suspect\\'s immigration status.  \"The family is in shock, as you can imagine. This obviously happened so unexpectedly,\" Atlanta attorney Daniel Meachum said.  Investigators said they believe Orrego-Savala was intoxicated at the time of the Indiana crash.  Orrego-Savala had a 2005 conviction for driving under the influence in Redwood City, California. He also has numerous other misdemeanor convictions and arrests in California and Indiana, according to U.S. Immigration and Customs Enforcement spokeswoman Nicole Alberico.  In the 2005 case, he pleaded no contest to two separate drunken-driving offenses and was given a brief jail sentence, San Mateo County District Attorney Steve Wagstaffe said Tuesday.  Orrego-Savala remains jailed in Indianapolis. Federal and county prosecutors spell his name as \"Orrego-Zavala\" in charging documents, but his attorney said his name is spelled Orrego-Savala, a spelling listed among his aliases in the federal documents.  He appeared Tuesday before a judge who advised him of his rights. Indianapolis television station WRTV reported that Orrego-Savala told the judge through an interpreter: \"I wasn\\'t driving the car. I don\\'t know why I am here.\"  A police news release did not mention the presence of anyone else in the pickup truck.'"
      ]
     },
     "execution_count": 20,
     "metadata": {},
     "output_type": "execute_result"
    }
   ],
   "source": [
    "## checking a sample\n",
    "train_data['text'][100]"
   ]
  },
  {
   "cell_type": "code",
   "execution_count": 21,
   "metadata": {
    "colab": {
     "base_uri": "https://localhost:8080/"
    },
    "id": "eBeFOnqaVm0Q",
    "outputId": "663d73fe-efee-4d60-98c1-808a0c7589de"
   },
   "outputs": [
    {
     "name": "stdout",
     "output_type": "stream",
     "text": [
      "605\n"
     ]
    }
   ],
   "source": [
    "# length of the text\n",
    "\n",
    "total_words_in_100 = len(train_data['text'][100].split())\n",
    "print(total_words_in_100)"
   ]
  },
  {
   "cell_type": "markdown",
   "metadata": {
    "id": "idCR70wDVW8L"
   },
   "source": [
    "### Lowercasing the text"
   ]
  },
  {
   "cell_type": "code",
   "execution_count": 22,
   "metadata": {
    "id": "salsQduXhSl7"
   },
   "outputs": [],
   "source": [
    "train_data['text_preprocessed'] = train_data['text'].str.lower()\n"
   ]
  },
  {
   "cell_type": "code",
   "execution_count": 23,
   "metadata": {
    "colab": {
     "base_uri": "https://localhost:8080/",
     "height": 159
    },
    "id": "wOoLuoT_hwzy",
    "outputId": "b076cc1f-a59b-444a-d0a6-dfc21fd18891"
   },
   "outputs": [
    {
     "data": {
      "text/plain": [
       "'prosecutors filed felony charges on wednesday against an immigrant illegally living in the u.s. who is suspected in a drunken-driving crash that killed indianapolis colts linebacker edwin jackson and an uber driver.  manuel orrego-savala, who is from guatemala and has twice been deported from the u.s., is charged with causing death while driving intoxicated and leaving the scene of an accident. the 37-year-old said little during his initial court hearing, responding through an interpreter as the judge explained the proceedings and charges.  \"he\\'s very distraught to say the least,\" said his lawyer, jorge torres. \"he\\'s very confused.\"  investigators said orrego-savala was driving the pickup truck that hit jackson and his uber driver, 54-year-old jeffrey monroe, while the men were standing outside monroe\\'s car early sunday along interstate 70. court documents allege a blood test conducted at a hospital determined orrego-savala had a blood-alcohol level of 0.19 percent, more than double indiana\\'s legal limit for driving.  the two most serious charges each carry maximum sentence of up to 20 years in prison.  orrego-savala was deported in 2007 and 2009, and was again living illegally in the u.s. at the time of the crash, according to investigators. he was charged late tuesday by federal prosecutors with illegal re-entry of a previously deported alien. he faces up to 10 years in prison on that charge, which the u.s. attorney\\'s office said would be handled after any state charges are resolved.  president donald trump drew added attention to the case on twitter, calling the highway collision that killed jackson and monroe \"disgraceful.\" the president also prodded democrats to work with him on illegal immigration and border security.  marion county prosecutor terry curry criticized the comments, saying his office would \"vigorously prosecute\" the fatal crash case regardless of whether orrego-savala was in the country illegally.  \"we are disheartened that ghoulish and inappropriate public commentary has politicized this tragedy,\" the democratic prosecutor said in a statement. \"much of such commentary, including tweets by the president, fails to acknowledge that both edwin jackson and jeffrey monroe lost their lives on sunday. we will simply seek justice on behalf of the families of those two victims.\"  torres also said that orrego-savala\\'s immigration status has no bearing on the crash case. the attorney noted his client has been living and doing construction work in the indianapolis area for several years.  a spokesman for jackson\\'s family has said his relatives are devastated and planned no response to trump\\'s tweets about the crash and the suspect\\'s immigration status.  \"the family is in shock, as you can imagine. this obviously happened so unexpectedly,\" atlanta attorney daniel meachum said.  investigators said they believe orrego-savala was intoxicated at the time of the indiana crash.  orrego-savala had a 2005 conviction for driving under the influence in redwood city, california. he also has numerous other misdemeanor convictions and arrests in california and indiana, according to u.s. immigration and customs enforcement spokeswoman nicole alberico.  in the 2005 case, he pleaded no contest to two separate drunken-driving offenses and was given a brief jail sentence, san mateo county district attorney steve wagstaffe said tuesday.  orrego-savala remains jailed in indianapolis. federal and county prosecutors spell his name as \"orrego-zavala\" in charging documents, but his attorney said his name is spelled orrego-savala, a spelling listed among his aliases in the federal documents.  he appeared tuesday before a judge who advised him of his rights. indianapolis television station wrtv reported that orrego-savala told the judge through an interpreter: \"i wasn\\'t driving the car. i don\\'t know why i am here.\"  a police news release did not mention the presence of anyone else in the pickup truck.'"
      ]
     },
     "execution_count": 23,
     "metadata": {},
     "output_type": "execute_result"
    }
   ],
   "source": [
    "train_data['text_preprocessed'][100]"
   ]
  },
  {
   "cell_type": "markdown",
   "metadata": {
    "id": "ioqtqGTEiJO6"
   },
   "source": [
    "###  Decontractions of Words"
   ]
  },
  {
   "cell_type": "code",
   "execution_count": 24,
   "metadata": {
    "colab": {
     "base_uri": "https://localhost:8080/",
     "height": 159
    },
    "id": "2YyZrI9Xh1z4",
    "outputId": "1069dfb4-48a3-487c-eb10-178214b928d9",
    "scrolled": true
   },
   "outputs": [
    {
     "data": {
      "text/plain": [
       "'prosecutors filed felony charges on wednesday against an immigrant illegally living in the u.s. who is suspected in a drunken-driving crash that killed indianapolis colts linebacker edwin jackson and an uber driver.  manuel orrego-savala, who is from guatemala and has twice been deported from the u.s., is charged with causing death while driving intoxicated and leaving the scene of an accident. the 37-year-old said little during his initial court hearing, responding through an interpreter as the judge explained the proceedings and charges.  \"he is very distraught to say the least,\" said his lawyer, jorge torres. \"he is very confused.\"  investigators said orrego-savala was driving the pickup truck that hit jackson and his uber driver, 54-year-old jeffrey monroe, while the men were standing outside monroe is car early sunday along interstate 70. court documents allege a blood test conducted at a hospital determined orrego-savala had a blood-alcohol level of 0.19 percent, more than double indiana is legal limit for driving.  the two most serious charges each carry maximum sentence of up to 20 years in prison.  orrego-savala was deported in 2007 and 2009, and was again living illegally in the u.s. at the time of the crash, according to investigators. he was charged late tuesday by federal prosecutors with illegal re-entry of a previously deported alien. he faces up to 10 years in prison on that charge, which the u.s. attorney is office said would be handled after any state charges are resolved.  president donald trump drew added attention to the case on twitter, calling the highway collision that killed jackson and monroe \"disgraceful.\" the president also prodded democrats to work with him on illegal immigration and border security.  marion county prosecutor terry curry criticized the comments, saying his office would \"vigorously prosecute\" the fatal crash case regardless of whether orrego-savala was in the country illegally.  \"we are disheartened that ghoulish and inappropriate public commentary has politicized this tragedy,\" the democratic prosecutor said in a statement. \"much of such commentary, including tweets by the president, fails to acknowledge that both edwin jackson and jeffrey monroe lost their lives on sunday. we will simply seek justice on behalf of the families of those two victims.\"  torres also said that orrego-savala is immigration status has no bearing on the crash case. the attorney noted his client has been living and doing construction work in the indianapolis area for several years.  a spokesman for jackson is family has said his relatives are devastated and planned no response to trump is tweets about the crash and the suspect is immigration status.  \"the family is in shock, as you can imagine. this obviously happened so unexpectedly,\" atlanta attorney daniel meachum said.  investigators said they believe orrego-savala was intoxicated at the time of the indiana crash.  orrego-savala had a 2005 conviction for driving under the influence in redwood city, california. he also has numerous other misdemeanor convictions and arrests in california and indiana, according to u.s. immigration and customs enforcement spokeswoman nicole alberico.  in the 2005 case, he pleaded no contest to two separate drunken-driving offenses and was given a brief jail sentence, san mateo county district attorney steve wagstaffe said tuesday.  orrego-savala remains jailed in indianapolis. federal and county prosecutors spell his name as \"orrego-zavala\" in charging documents, but his attorney said his name is spelled orrego-savala, a spelling listed among his aliases in the federal documents.  he appeared tuesday before a judge who advised him of his rights. indianapolis television station wrtv reported that orrego-savala told the judge through an interpreter: \"i was not driving the car. i do not know why i am here.\"  a police news release did not mention the presence of anyone else in the pickup truck.'"
      ]
     },
     "execution_count": 24,
     "metadata": {},
     "output_type": "execute_result"
    }
   ],
   "source": [
    "## deconstructions of word means won't -> will not, can't -> can not, he's -> he is\n",
    "\n",
    "train_data['text_preprocessed'] = train_data['text_preprocessed'].str.replace(r\"won\\'t\", \"will not\")\\\n",
    "                                        .str.replace(r\"can\\'t\", \"can not\")\\\n",
    "                                        .str.replace(r\"n\\'t\", \" not\")\\\n",
    "                                        .str.replace(r\"\\'re\", \" are\")\\\n",
    "                                        .str.replace(\"\\’s\", \" is\")\\\n",
    "                                        .str.replace(r\"\\'d\", \" would\")\\\n",
    "                                        .str.replace(r\"\\'ll\", \" will\")\\\n",
    "                                        .str.replace(r\"\\'t\", \" not\")\\\n",
    "                                        .str.replace(r\"\\'ve\", \" have\")\\\n",
    "                                        .str.replace(r\"\\'m\", \" am\")\\\n",
    "                                        .str.replace(\"\\'s\", \" is\")\n",
    "\n",
    "train_data['text_preprocessed'][100]"
   ]
  },
  {
   "cell_type": "markdown",
   "metadata": {
    "id": "ANVi2RoZeEAe"
   },
   "source": [
    "### Removing special characters and punctuations"
   ]
  },
  {
   "cell_type": "code",
   "execution_count": 25,
   "metadata": {
    "colab": {
     "base_uri": "https://localhost:8080/",
     "height": 548
    },
    "id": "duxha2cikatD",
    "outputId": "e0a2f944-6aa4-4fba-9683-43d0de9e4c0b"
   },
   "outputs": [
    {
     "data": {
      "text/plain": [
       "'prosecutors filed felony charges on wednesday against an immigrant illegally living in the us who is suspected in a drunken driving crash that killed indianapolis colts linebacker edwin jackson and an uber driver  manuel orrego savala who is from guatemala and has twice been deported from the us is charged with causing death while driving intoxicated and leaving the scene of an accident the 37 year old said little during his initial court hearing responding through an interpreter as the judge explained the proceedings and charges  he is very distraught to say the least said his lawyer jorge torres he is very confused  investigators said orrego savala was driving the pickup truck that hit jackson and his uber driver 54 year old jeffrey monroe while the men were standing outside monroe is car early sunday along interstate 70 court documents allege a blood test conducted at a hospital determined orrego savala had a blood alcohol level of 019 percent more than double indiana is legal limit for driving  the two most serious charges each carry maximum sentence of up to 20 years in prison  orrego savala was deported in 2007 and 2009 and was again living illegally in the us at the time of the crash according to investigators he was charged late tuesday by federal prosecutors with illegal re entry of a previously deported alien he faces up to 10 years in prison on that charge which the us attorney is office said would be handled after any state charges are resolved  president donald trump drew added attention to the case on twitter calling the highway collision that killed jackson and monroe disgraceful the president also prodded democrats to work with him on illegal immigration and border security  marion county prosecutor terry curry criticized the comments saying his office would vigorously prosecute the fatal crash case regardless of whether orrego savala was in the country illegally  we are disheartened that ghoulish and inappropriate public commentary has politicized this tragedy the democratic prosecutor said in a statement much of such commentary including tweets by the president fails to acknowledge that both edwin jackson and jeffrey monroe lost their lives on sunday we will simply seek justice on behalf of the families of those two victims  torres also said that orrego savala is immigration status has no bearing on the crash case the attorney noted his client has been living and doing construction work in the indianapolis area for several years  a spokesman for jackson is family has said his relatives are devastated and planned no response to trump is tweets about the crash and the suspect is immigration status  the family is in shock as you can imagine this obviously happened so unexpectedly atlanta attorney daniel meachum said  investigators said they believe orrego savala was intoxicated at the time of the indiana crash  orrego savala had a 2005 conviction for driving under the influence in redwood city california he also has numerous other misdemeanor convictions and arrests in california and indiana according to us immigration and customs enforcement spokeswoman nicole alberico  in the 2005 case he pleaded no contest to two separate drunken driving offenses and was given a brief jail sentence san mateo county district attorney steve wagstaffe said tuesday  orrego savala remains jailed in indianapolis federal and county prosecutors spell his name as orrego zavala in charging documents but his attorney said his name is spelled orrego savala a spelling listed among his aliases in the federal documents  he appeared tuesday before a judge who advised him of his rights indianapolis television station wrtv reported that orrego savala told the judge through an interpreter i was not driving the car i do not know why i am here  a police news release did not mention the presence of anyone else in the pickup truck'"
      ]
     },
     "execution_count": 25,
     "metadata": {},
     "output_type": "execute_result"
    }
   ],
   "source": [
    "# r'[^\\w\\s]' works in the context of removing non-word characters such as 'Hello, World! 123' => 'Hello World 123'\n",
    "train_data['text_preprocessed'] = train_data['text_preprocessed'].str.replace(r'-',' ').str.replace(r'[^\\w\\s]', '')\n",
    "\n",
    "\n",
    "train_data['text_preprocessed'][100]"
   ]
  },
  {
   "cell_type": "markdown",
   "metadata": {
    "id": "3LkrmxJbe0Cy"
   },
   "source": [
    "# Removing numbers and digits"
   ]
  },
  {
   "cell_type": "code",
   "execution_count": 26,
   "metadata": {
    "colab": {
     "base_uri": "https://localhost:8080/",
     "height": 530
    },
    "id": "ekmDbJKnejJY",
    "outputId": "7f630004-0fb8-4b74-c72c-f45d2b40be0a"
   },
   "outputs": [
    {
     "data": {
      "text/plain": [
       "'prosecutors filed felony charges on wednesday against an immigrant illegally living in the us who is suspected in a drunken driving crash that killed indianapolis colts linebacker edwin jackson and an uber driver manuel orrego savala who is from guatemala and has twice been deported from the us is charged with causing death while driving intoxicated and leaving the scene of an accident the year old said little during his initial court hearing responding through an interpreter as the judge explained the proceedings and charges he is very distraught to say the least said his lawyer jorge torres he is very confused investigators said orrego savala was driving the pickup truck that hit jackson and his uber driver year old jeffrey monroe while the men were standing outside monroe is car early sunday along interstate court documents allege a blood test conducted at a hospital determined orrego savala had a blood alcohol level of percent more than double indiana is legal limit for driving the two most serious charges each carry maximum sentence of up to years in prison orrego savala was deported in and and was again living illegally in the us at the time of the crash according to investigators he was charged late tuesday by federal prosecutors with illegal re entry of a previously deported alien he faces up to years in prison on that charge which the us attorney is office said would be handled after any state charges are resolved president donald trump drew added attention to the case on twitter calling the highway collision that killed jackson and monroe disgraceful the president also prodded democrats to work with him on illegal immigration and border security marion county prosecutor terry curry criticized the comments saying his office would vigorously prosecute the fatal crash case regardless of whether orrego savala was in the country illegally we are disheartened that ghoulish and inappropriate public commentary has politicized this tragedy the democratic prosecutor said in a statement much of such commentary including tweets by the president fails to acknowledge that both edwin jackson and jeffrey monroe lost their lives on sunday we will simply seek justice on behalf of the families of those two victims torres also said that orrego savala is immigration status has no bearing on the crash case the attorney noted his client has been living and doing construction work in the indianapolis area for several years a spokesman for jackson is family has said his relatives are devastated and planned no response to trump is tweets about the crash and the suspect is immigration status the family is in shock as you can imagine this obviously happened so unexpectedly atlanta attorney daniel meachum said investigators said they believe orrego savala was intoxicated at the time of the indiana crash orrego savala had a conviction for driving under the influence in redwood city california he also has numerous other misdemeanor convictions and arrests in california and indiana according to us immigration and customs enforcement spokeswoman nicole alberico in the case he pleaded no contest to two separate drunken driving offenses and was given a brief jail sentence san mateo county district attorney steve wagstaffe said tuesday orrego savala remains jailed in indianapolis federal and county prosecutors spell his name as orrego zavala in charging documents but his attorney said his name is spelled orrego savala a spelling listed among his aliases in the federal documents he appeared tuesday before a judge who advised him of his rights indianapolis television station wrtv reported that orrego savala told the judge through an interpreter i was not driving the car i do not know why i am here a police news release did not mention the presence of anyone else in the pickup truck'"
      ]
     },
     "execution_count": 26,
     "metadata": {},
     "output_type": "execute_result"
    }
   ],
   "source": [
    "# Only 1 word here.=> Only word here.\n",
    "train_data['text_preprocessed'] = train_data['text_preprocessed'].apply(lambda x: ' '.join([i for i in x.split() if not i.isdigit()]))\n",
    "\n",
    "\n",
    "train_data['text_preprocessed'][100]"
   ]
  },
  {
   "cell_type": "markdown",
   "metadata": {
    "id": "MQtffOkYfvjW"
   },
   "source": [
    "### Removing stopwords"
   ]
  },
  {
   "cell_type": "code",
   "execution_count": 27,
   "metadata": {
    "colab": {
     "base_uri": "https://localhost:8080/"
    },
    "id": "CycoWWFYfMCe",
    "outputId": "e8b79633-8ac6-4961-f3fb-235c64ac7fdb"
   },
   "outputs": [
    {
     "name": "stderr",
     "output_type": "stream",
     "text": [
      "[nltk_data] Downloading package stopwords to\n",
      "[nltk_data]     C:\\Users\\szilv\\AppData\\Roaming\\nltk_data...\n",
      "[nltk_data]   Unzipping corpora\\stopwords.zip.\n"
     ]
    },
    {
     "data": {
      "text/plain": [
       "True"
      ]
     },
     "execution_count": 27,
     "metadata": {},
     "output_type": "execute_result"
    }
   ],
   "source": [
    "nltk.download('stopwords')"
   ]
  },
  {
   "cell_type": "code",
   "execution_count": null,
   "metadata": {},
   "outputs": [],
   "source": [
    "# common stopwords in English include words like \"the,\" \"and,\" \"in,\" \"of,\" \"a,\" \"to,\" \"is,\" \"it,\" \"that,\" and \"I.\""
   ]
  },
  {
   "cell_type": "code",
   "execution_count": 28,
   "metadata": {
    "colab": {
     "base_uri": "https://localhost:8080/",
     "height": 406
    },
    "id": "UdaMeIBVf2k5",
    "outputId": "2276ec0e-9681-4a20-a884-08900e891bfb"
   },
   "outputs": [
    {
     "data": {
      "text/plain": [
       "'prosecutors filed felony charges wednesday immigrant illegally living us suspected drunken driving crash killed indianapolis colts linebacker edwin jackson uber driver manuel orrego savala guatemala twice deported us charged causing death driving intoxicated leaving scene accident year old said little initial court hearing responding interpreter judge explained proceedings charges distraught say least said lawyer jorge torres confused investigators said orrego savala driving pickup truck hit jackson uber driver year old jeffrey monroe men standing outside monroe car early sunday along interstate court documents allege blood test conducted hospital determined orrego savala blood alcohol level percent double indiana legal limit driving two serious charges carry maximum sentence years prison orrego savala deported living illegally us time crash according investigators charged late tuesday federal prosecutors illegal entry previously deported alien faces years prison charge us attorney office said would handled state charges resolved president donald trump drew added attention case twitter calling highway collision killed jackson monroe disgraceful president also prodded democrats work illegal immigration border security marion county prosecutor terry curry criticized comments saying office would vigorously prosecute fatal crash case regardless whether orrego savala country illegally disheartened ghoulish inappropriate public commentary politicized tragedy democratic prosecutor said statement much commentary including tweets president fails acknowledge edwin jackson jeffrey monroe lost lives sunday simply seek justice behalf families two victims torres also said orrego savala immigration status bearing crash case attorney noted client living construction work indianapolis area several years spokesman jackson family said relatives devastated planned response trump tweets crash suspect immigration status family shock imagine obviously happened unexpectedly atlanta attorney daniel meachum said investigators said believe orrego savala intoxicated time indiana crash orrego savala conviction driving influence redwood city california also numerous misdemeanor convictions arrests california indiana according us immigration customs enforcement spokeswoman nicole alberico case pleaded contest two separate drunken driving offenses given brief jail sentence san mateo county district attorney steve wagstaffe said tuesday orrego savala remains jailed indianapolis federal county prosecutors spell name orrego zavala charging documents attorney said name spelled orrego savala spelling listed among aliases federal documents appeared tuesday judge advised rights indianapolis television station wrtv reported orrego savala told judge interpreter driving car know police news release mention presence anyone else pickup truck'"
      ]
     },
     "execution_count": 28,
     "metadata": {},
     "output_type": "execute_result"
    }
   ],
   "source": [
    "from nltk.corpus import stopwords\n",
    "\n",
    "stopword_list = sorted(stopwords.words('english'))\n",
    "\n",
    "\n",
    "train_data['text_preprocessed'] = train_data['text_preprocessed'].apply(lambda x: ' '.join(e for e in x.split() if e not in stopword_list))\n",
    "\n",
    "\n",
    "train_data['text_preprocessed'][100]"
   ]
  },
  {
   "cell_type": "markdown",
   "metadata": {
    "id": "AbVbWtP9hv55"
   },
   "source": [
    "### Lemmatization - Greekword 'lemma' means root"
   ]
  },
  {
   "cell_type": "code",
   "execution_count": 38,
   "metadata": {},
   "outputs": [
    {
     "name": "stderr",
     "output_type": "stream",
     "text": [
      "[nltk_data] Downloading package omw-1.4 to\n",
      "[nltk_data]     C:\\Users\\szilv\\AppData\\Roaming\\nltk_data...\n",
      "[nltk_data]   Package omw-1.4 is already up-to-date!\n"
     ]
    },
    {
     "data": {
      "text/plain": [
       "True"
      ]
     },
     "execution_count": 38,
     "metadata": {},
     "output_type": "execute_result"
    }
   ],
   "source": [
    "import nltk\n",
    "nltk.download('omw-1.4')"
   ]
  },
  {
   "cell_type": "code",
   "execution_count": 39,
   "metadata": {
    "colab": {
     "base_uri": "https://localhost:8080/"
    },
    "id": "C__uDIHOgVXx",
    "outputId": "0316e374-a5d5-44a0-b92d-dbe54fedcce3"
   },
   "outputs": [
    {
     "name": "stderr",
     "output_type": "stream",
     "text": [
      "[nltk_data] Downloading package wordnet to\n",
      "[nltk_data]     C:\\Users\\szilv\\AppData\\Roaming\\nltk_data...\n",
      "[nltk_data]   Package wordnet is already up-to-date!\n"
     ]
    },
    {
     "data": {
      "text/plain": [
       "True"
      ]
     },
     "execution_count": 39,
     "metadata": {},
     "output_type": "execute_result"
    }
   ],
   "source": [
    "nltk.download('wordnet')"
   ]
  },
  {
   "cell_type": "code",
   "execution_count": 40,
   "metadata": {},
   "outputs": [],
   "source": [
    "# The word \"running\" may be lemmatized to its base form, \"run.\"\n",
    "# The word \"better\" may be lemmatized to its base form, \"good.\""
   ]
  },
  {
   "cell_type": "code",
   "execution_count": 41,
   "metadata": {
    "colab": {
     "base_uri": "https://localhost:8080/",
     "height": 159
    },
    "id": "Eb3YBFeUiGyD",
    "outputId": "c37666c6-dfce-4ba1-ab05-7134b8496ce6"
   },
   "outputs": [
    {
     "data": {
      "text/plain": [
       "'prosecutor filed felony charge wednesday immigrant illegally living u suspected drunken driving crash killed indianapolis colt linebacker edwin jackson uber driver manuel orrego savala guatemala twice deported u charged causing death driving intoxicated leaving scene accident year old said little initial court hearing responding interpreter judge explained proceeding charge distraught say least said lawyer jorge torres confused investigator said orrego savala driving pickup truck hit jackson uber driver year old jeffrey monroe men standing outside monroe car early sunday along interstate court document allege blood test conducted hospital determined orrego savala blood alcohol level percent double indiana legal limit driving two serious charge carry maximum sentence year prison orrego savala deported living illegally u time crash according investigator charged late tuesday federal prosecutor illegal entry previously deported alien face year prison charge u attorney office said would handled state charge resolved president donald trump drew added attention case twitter calling highway collision killed jackson monroe disgraceful president also prodded democrat work illegal immigration border security marion county prosecutor terry curry criticized comment saying office would vigorously prosecute fatal crash case regardless whether orrego savala country illegally disheartened ghoulish inappropriate public commentary politicized tragedy democratic prosecutor said statement much commentary including tweet president fails acknowledge edwin jackson jeffrey monroe lost life sunday simply seek justice behalf family two victim torres also said orrego savala immigration status bearing crash case attorney noted client living construction work indianapolis area several year spokesman jackson family said relative devastated planned response trump tweet crash suspect immigration status family shock imagine obviously happened unexpectedly atlanta attorney daniel meachum said investigator said believe orrego savala intoxicated time indiana crash orrego savala conviction driving influence redwood city california also numerous misdemeanor conviction arrest california indiana according u immigration custom enforcement spokeswoman nicole alberico case pleaded contest two separate drunken driving offense given brief jail sentence san mateo county district attorney steve wagstaffe said tuesday orrego savala remains jailed indianapolis federal county prosecutor spell name orrego zavala charging document attorney said name spelled orrego savala spelling listed among alias federal document appeared tuesday judge advised right indianapolis television station wrtv reported orrego savala told judge interpreter driving car know police news release mention presence anyone else pickup truck'"
      ]
     },
     "execution_count": 41,
     "metadata": {},
     "output_type": "execute_result"
    }
   ],
   "source": [
    "wnl = WordNetLemmatizer()\n",
    "\n",
    "\n",
    "train_data['text_preprocessed'] = train_data['text_preprocessed'].apply(lambda x: ' '.join(wnl.lemmatize(word) for word in x.split()))\n",
    "\n",
    "\n",
    "train_data['text_preprocessed'][100]"
   ]
  },
  {
   "cell_type": "code",
   "execution_count": 37,
   "metadata": {
    "colab": {
     "base_uri": "https://localhost:8080/"
    },
    "id": "F5VESWdAnt5n",
    "outputId": "2d023679-6ce7-4aa4-fc54-75c2ba2cd836"
   },
   "outputs": [
    {
     "name": "stdout",
     "output_type": "stream",
     "text": [
      "369\n"
     ]
    }
   ],
   "source": [
    "# length of the text after preprocessing\n",
    "\n",
    "total_words_in_100_after_prepro = len(train_data['text_preprocessed'].values[100].split())\n",
    "print(total_words_in_100_after_prepro)"
   ]
  },
  {
   "cell_type": "markdown",
   "metadata": {
    "id": "eMOV38gsjUlS"
   },
   "source": [
    "### Text preprocessing as a function"
   ]
  },
  {
   "cell_type": "code",
   "execution_count": 42,
   "metadata": {
    "id": "34Ee0ETpijy_"
   },
   "outputs": [],
   "source": [
    "def final_preprocessing(data, stopword_list, lemma_object):\n",
    "\n",
    "  preprocessed_text_list = []\n",
    "\n",
    "  for sentence in data.values:\n",
    "\n",
    "    sentence = sentence.lower()\n",
    "\n",
    "    sentence = sentence.replace(r\"won\\'t\", \"will not\")\\\n",
    "                                        .replace(r\"can\\'t\", \"can not\")\\\n",
    "                                        .replace(r\"n\\'t\", \" not\")\\\n",
    "                                        .replace(r\"\\'re\", \" are\")\\\n",
    "                                        .replace(\"\\’s\", \" is\")\\\n",
    "                                        .replace(r\"\\'d\", \" would\")\\\n",
    "                                        .replace(r\"\\'ll\", \" will\")\\\n",
    "                                        .replace(r\"\\'t\", \" not\")\\\n",
    "                                        .replace(r\"\\'ve\", \" have\")\\\n",
    "                                        .replace(r\"\\'m\", \" am\")\\\n",
    "                                        .replace(\"\\'s\", \" is\")\n",
    "    sentence = sentence.replace('-',' ').replace('[^\\w\\s]','')\n",
    "\n",
    "    sentence = ' '.join([i for i in sentence.split() if not i.isdigit()])\n",
    "\n",
    "    sentence = ' '.join(e for e in sentence.split() if e not in stopword_list)\n",
    "\n",
    "    sentence = ' '.join(lemma_object.lemmatize(word) for word in sentence.split())\n",
    "\n",
    "    preprocessed_text_list.append(sentence)\n",
    "\n",
    "  return preprocessed_text_list"
   ]
  },
  {
   "cell_type": "code",
   "execution_count": 45,
   "metadata": {},
   "outputs": [
    {
     "data": {
      "text/plain": [
       "5125"
      ]
     },
     "execution_count": 45,
     "metadata": {},
     "output_type": "execute_result"
    }
   ],
   "source": [
    "len(valid_data)"
   ]
  },
  {
   "cell_type": "code",
   "execution_count": 46,
   "metadata": {},
   "outputs": [
    {
     "data": {
      "text/plain": [
       "Index(['text', 'location', 'tone', 'date', 'ID', 'URL',\n",
       "       'MBFC_factuality_label', 'URL.1', 'MBFC_factuality_label.1',\n",
       "       'URL_to_MBFC_page', 'source_name', 'MBFC_notes_about_source',\n",
       "       'MBFC_bias_label', 'source_URL', 'propaganda_label'],\n",
       "      dtype='object')"
      ]
     },
     "execution_count": 46,
     "metadata": {},
     "output_type": "execute_result"
    }
   ],
   "source": [
    "valid_data.columns"
   ]
  },
  {
   "cell_type": "code",
   "execution_count": 47,
   "metadata": {
    "id": "KZvJNcHMmCCL"
   },
   "outputs": [],
   "source": [
    "# Applying the above fucntion on validation dataset\n",
    "\n",
    "valid_preprocessed_list = final_preprocessing(valid_data['text'], stopword_list, wnl)\n",
    "\n",
    "valid_data['text_preprocessed'] = valid_preprocessed_list"
   ]
  },
  {
   "cell_type": "code",
   "execution_count": 48,
   "metadata": {
    "colab": {
     "base_uri": "https://localhost:8080/",
     "height": 442
    },
    "id": "Q12f13HsoSjN",
    "outputId": "b5314ddb-638f-4955-946f-07ca4e501a03"
   },
   "outputs": [
    {
     "data": {
      "text/plain": [
       "'le week prince harry wed meghan markle, lifetime adapted couple love story film aptly titled harry & meghan: royal romance. airing last night, movie depicted relationship timeline harry meghan factual public moment milestone probably le accurate (and dramatic) behind scene love story. movie include real life event meghan harry relationship (including first blind date whisking away botswana), also some...ahem...harder believe plot line thrown well. though film stars, parisa fitz henley [meghan] murray fraser [harry], resembled real life counterpart pretty well, several scene bet almost certainly occur matter accurate cast resemblance was. below, we\\'re breaking dramatic, lifetime moment movie probably, absolutely, definitely happen real life. 1) harry meghan almost got attacked lion africa. trip botswana around 20th anniversary princess diana death, couple dramatically confronted angry lion run outside middle night fight. near death experience, course, cause make immediately. honestly, can\\'t believe whole scene already taylor swift song. 2) meghan tried break harry via facetime, surprise set suit exact moment. okay, first all, honestly can\\'t expect believe woman tried break actual prince via facetime. game works. top that, moment decides end thing moment knocking door suit trailer surprise visit toronto? i\\'m going need receipt one. 3) meghan break harry second time dramatically running stop plane taking come senses. tew much. nobody break prince many times. spoiler alert: course get plane time somehow miraculously able stop private royal jet taking off. missing scene thunderstorm moment filmed pouring rain. 4) couple dressed frog hillary clinton halloween party... two secretly dating, harry dressed frog suit (get it, frog becomes prince charming?) go \"in disguise\" halloween party. meghan, meanwhile, dressed hillary clinton (because feminist must hrc halloween), making awkward couple costume time. unclear soho house party question actually occurred, i\\'m giving harry meghan benefit doubt would choose better costume said party go down. © lifetime fact checking lifetime \\'harry meghan\\' movie 5) kate middleton intense criticism attitude toward meghan markle. whatever reason, lifetime decided portray duchess cambridge super snooty cold character plenty criticism dish meghan. william first tell kate harry dating american girl (he actually reveals saying harry \"botswana ed\" meghan, term i\\'m willing bet william vocabulary), kate response is, \"oh no, they\\'re loud.\" i\\'d willing overlook slightly shady dig, later movie kate tell harry, \"if she’s girl, can’t opinions\" adding, \"she’s divorced, she’s american, she’s half black….are ready this? think went commoner.\" um, i\\'m calling b find hard believe exchange ever took place. fact, kate meghan reportedly pretty close appeared public event together alongside prince william prince harry. i\\'m sensing never bad blood here... © getty image fact checking lifetime \\'harry meghan\\' movie would for, however, sequel movie depicting friendship kate meghan following royal wedding next weekend. move, lifetime.'"
      ]
     },
     "execution_count": 48,
     "metadata": {},
     "output_type": "execute_result"
    }
   ],
   "source": [
    "valid_data['text_preprocessed'][100]"
   ]
  },
  {
   "cell_type": "code",
   "execution_count": 49,
   "metadata": {},
   "outputs": [
    {
     "data": {
      "text/plain": [
       "3083"
      ]
     },
     "execution_count": 49,
     "metadata": {},
     "output_type": "execute_result"
    }
   ],
   "source": [
    "len(valid_data['text_preprocessed'][100])"
   ]
  },
  {
   "cell_type": "code",
   "execution_count": 50,
   "metadata": {},
   "outputs": [
    {
     "data": {
      "text/plain": [
       "10159"
      ]
     },
     "execution_count": 50,
     "metadata": {},
     "output_type": "execute_result"
    }
   ],
   "source": [
    "len(test_data)"
   ]
  },
  {
   "cell_type": "code",
   "execution_count": 51,
   "metadata": {
    "id": "LSFwXQZ2mtb5"
   },
   "outputs": [],
   "source": [
    "# Applying the above fucntion on test dataset\n",
    "\n",
    "test_preprocessed_list = final_preprocessing(test_data['text'], stopword_list, wnl)\n",
    "test_data['text_preprocessed'] = test_preprocessed_list"
   ]
  },
  {
   "cell_type": "code",
   "execution_count": 53,
   "metadata": {
    "colab": {
     "base_uri": "https://localhost:8080/",
     "height": 159
    },
    "id": "FanheXi9oWrt",
    "outputId": "82b4e94d-7eef-4cc3-f7fd-c74b8a00b823"
   },
   "outputs": [
    {
     "data": {
      "text/plain": [
       "'u immigration agency kept congolese asylum seeker daughter nearly four months, lawsuit alleges. u immigration authority held congolese asylum seeker seven year old daughter separate detention centre months, new lawsuit alleges, stoking fear donald trump administration plan keep family apart bid stem asylum requests. claim filed monday u district court california, american civil liberty union (aclu) said mother daughter detained since arrived filed asylum san diego november last year. known \"ms. l\" court filing, woman fled violence native democratic republic congo, wracked political instability, armed clash increasing humanitarian crisis. mother detained san diego area, child held 3,000km away chicago, aclu said. \"the trump administration using little girl mother pawn draconian public policy experiment,\" said lee gelernt, deputy director aclu immigrants\\' right project, statement. lawsuit accuses u immigration custom enforcement department homeland security, among others, violating plaintiffs\\' right due process violating federal asylum laws. \"not horrific rip child mother, legal justification it,\" gelernt said. news family month long separation come two month u medium reported trump administration considering plan keep parent apart child caught entering u without visas. plan intended discourage undocumented migrant crossing border us, new york time reported december. trump campaigned promise build wall us\\' southern border mexico crack undocumented immigration. least u human right group recently condemned forced separation policy, saying would \"significant long lasting consequence safety, health, development, well children\". \"family unity foundational principle child welfare law,\" marylee allen child defense fund said letter u department homeland security secretary kirstjen nielsen january. \"in order grow develop, child need remain care parent loved, nurtured feel safe... proposed change agency policy would eviscerate principle.\"'"
      ]
     },
     "execution_count": 53,
     "metadata": {},
     "output_type": "execute_result"
    }
   ],
   "source": [
    "test_data['text_preprocessed'][100]"
   ]
  },
  {
   "cell_type": "code",
   "execution_count": 54,
   "metadata": {},
   "outputs": [
    {
     "data": {
      "text/plain": [
       "1960"
      ]
     },
     "execution_count": 54,
     "metadata": {},
     "output_type": "execute_result"
    }
   ],
   "source": [
    "len(test_data['text_preprocessed'][100])"
   ]
  },
  {
   "cell_type": "code",
   "execution_count": 55,
   "metadata": {
    "id": "ZDKeEfIUnkbo"
   },
   "outputs": [],
   "source": [
    "# Saving the preprocessed text data\n",
    "\n",
    "train_prepro_df = pd.DataFrame(train_data, columns=['text_preprocessed', 'propoganda_label'])\n",
    "\n",
    "train_prepro_df.to_csv('preprocessed_train_data.csv', index=False)\n",
    "\n",
    "valid_prepro_df = pd.DataFrame(valid_data, columns=['text_preprocessed', 'propoganda_label'])\n",
    "\n",
    "valid_prepro_df.to_csv('preprocessed_valid_data.csv', index=False)\n",
    "\n",
    "test_prepro_df = pd.DataFrame(test_data, columns=['text_preprocessed', 'propoganda_label'])\n",
    "\n",
    "test_prepro_df.to_csv('preprocessed_test_data.csv', index=False)"
   ]
  },
  {
   "cell_type": "code",
   "execution_count": 56,
   "metadata": {
    "colab": {
     "base_uri": "https://localhost:8080/"
    },
    "id": "0MNdcFjYqTiY",
    "outputId": "c68203df-90c4-4b4b-83ea-0e169122b6c8"
   },
   "outputs": [
    {
     "name": "stdout",
     "output_type": "stream",
     "text": [
      " Volume in drive C is Windows-SSD\n",
      " Volume Serial Number is 540D-C19B\n",
      "\n",
      " Directory of C:\\Users\\szilv\\OneDrive\\Desktop\\Private\\S\\NLP\n",
      "\n",
      "09/11/2023  21:55    <DIR>          .\n",
      "09/11/2023  21:06    <DIR>          ..\n",
      "09/11/2023  21:09    <DIR>          .ipynb_checkpoints\n",
      "08/11/2023  13:34        56,105,056 NLP_data.rar\n",
      "09/11/2023  21:54           131,112 NLP_Project.ipynb\n",
      "09/11/2023  21:55        27,321,631 preprocessed_test_data.csv\n",
      "09/11/2023  21:55        87,807,213 preprocessed_train_data.csv\n",
      "09/11/2023  21:55        13,615,599 preprocessed_valid_data.csv\n",
      "08/11/2023  13:23           159,474 project.ipynb\n",
      "08/11/2023  13:23        20,433,796 proppy_1.0.dev.tsv\n",
      "08/11/2023  13:24        40,999,986 proppy_1.0.test.tsv\n",
      "08/11/2023  13:24       146,748,161 proppy_1.0.train.tsv\n",
      "08/11/2023  13:23             2,605 README.md\n",
      "              10 File(s)    393,324,633 bytes\n",
      "               3 Dir(s)  195,302,133,760 bytes free\n"
     ]
    }
   ],
   "source": [
    "ls"
   ]
  },
  {
   "cell_type": "code",
   "execution_count": null,
   "metadata": {
    "id": "rgLujK4wqRAB"
   },
   "outputs": [],
   "source": []
  }
 ],
 "metadata": {
  "colab": {
   "provenance": []
  },
  "kernelspec": {
   "display_name": "Python 3 (ipykernel)",
   "language": "python",
   "name": "python3"
  },
  "language_info": {
   "codemirror_mode": {
    "name": "ipython",
    "version": 3
   },
   "file_extension": ".py",
   "mimetype": "text/x-python",
   "name": "python",
   "nbconvert_exporter": "python",
   "pygments_lexer": "ipython3",
   "version": "3.11.3"
  }
 },
 "nbformat": 4,
 "nbformat_minor": 1
}
