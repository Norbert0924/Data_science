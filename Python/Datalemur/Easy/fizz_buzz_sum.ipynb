# https://datalemur.com/questions/python-fizz-buzz-sum

  sum=0
  
  for i in range(target):
    if (i%3==0) or (i%5==0):
      sum=sum+i
  return sum

